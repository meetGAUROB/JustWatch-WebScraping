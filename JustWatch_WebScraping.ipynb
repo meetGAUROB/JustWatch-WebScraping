{
  "nbformat": 4,
  "nbformat_minor": 0,
  "metadata": {
    "colab": {
      "provenance": [],
      "collapsed_sections": [
        "Dam_ehZgvgmw",
        "VEg1U1uPzGoj",
        "aqzhL8STqaMX",
        "UOof6-0xFuf6",
        "8CHiu0A5RAuM",
        "edb4gsNcRJQN",
        "_RI5FD3CqFVV",
        "IrJlIsBWrO2r",
        "Mnh22VX_7f6K",
        "mEIt9j6RKa9B",
        "P96pGO9kRCLv",
        "hk3eSdDAXQv8",
        "XZ9nJhmiZB_W",
        "ii49LH4tdNoN",
        "mHZwwgiKdlQm",
        "uUOtDJv9gM4a",
        "nD4QVPT-nfVR",
        "0bPDbn-gPyfm",
        "lWm5dQfQVxJr"
      ],
      "include_colab_link": true
    },
    "kernelspec": {
      "name": "python3",
      "display_name": "Python 3"
    },
    "language_info": {
      "name": "python"
    }
  },
  "cells": [
    {
      "cell_type": "markdown",
      "metadata": {
        "id": "view-in-github",
        "colab_type": "text"
      },
      "source": [
        "<a href=\"https://colab.research.google.com/github/meetGAUROB/JustWatch-WebScraping/blob/main/JustWatch_WebScraping.ipynb\" target=\"_parent\"><img src=\"https://colab.research.google.com/assets/colab-badge.svg\" alt=\"Open In Colab\"/></a>"
      ]
    },
    {
      "cell_type": "markdown",
      "source": [
        "# **Web Scraping & Data Handling Challenge**"
      ],
      "metadata": {
        "id": "bKFlk3slQ1ol"
      }
    },
    {
      "cell_type": "markdown",
      "source": [
        "\n",
        "\n",
        "### **Website:**\n",
        "JustWatch -  https://www.justwatch.com/in/movies?release_year_from=2000\n",
        "\n",
        "\n",
        "### **Description:**\n",
        "\n",
        "JustWatch is a popular platform that allows users to search for movies and TV shows across multiple streaming services like Netflix, Amazon Prime, Hulu, etc. For this assignment, you will be required to scrape movie and TV show data from JustWatch using Selenium, Python, and BeautifulSoup. Extract data from HTML, not by directly calling their APIs. Then, perform data filtering and analysis using Pandas, and finally, save the results to a CSV file.\n",
        "\n",
        "### **Tasks:**\n",
        "\n",
        "**1. Web Scraping:**\n",
        "\n",
        "Use BeautifulSoup to scrape the following data from JustWatch:\n",
        "\n",
        "   **a. Movie Information:**\n",
        "\n",
        "      - Movie title\n",
        "      - Release year\n",
        "      - Genre\n",
        "      - IMDb rating\n",
        "      - Streaming services available (Netflix, Amazon Prime, Hulu, etc.)\n",
        "      - URL to the movie page on JustWatch\n",
        "\n",
        "   **b. TV Show Information:**\n",
        "\n",
        "      - TV show title\n",
        "      - Release year\n",
        "      - Genre\n",
        "      - IMDb rating\n",
        "      - Streaming services available (Netflix, Amazon Prime, Hulu, etc.)\n",
        "      - URL to the TV show page on JustWatch\n",
        "\n",
        "  **c. Scope:**\n",
        "\n",
        "```\n",
        " ` - Scrape data for at least 50 movies and 50 TV shows.\n",
        "   - You can choose the entry point (e.g., starting with popular movies,\n",
        "     or a specific genre, etc.) to ensure a diverse dataset.`\n",
        "\n",
        "```\n",
        "\n",
        "\n",
        "**2. Data Filtering & Analysis:**\n",
        "\n",
        "   After scraping the data, use Pandas to perform the following tasks:\n",
        "\n",
        "   **a. Filter movies and TV shows based on specific criteria:**\n",
        "\n",
        "   ```\n",
        "      - Only include movies and TV shows released in the last 2 years (from the current date).\n",
        "      - Only include movies and TV shows with an IMDb rating of 7 or higher.\n",
        "```\n",
        "\n",
        "   **b. Data Analysis:**\n",
        "\n",
        "   ```\n",
        "      - Calculate the average IMDb rating for the scraped movies and TV shows.\n",
        "      - Identify the top 5 genres that have the highest number of available movies and TV shows.\n",
        "      - Determine the streaming service with the most significant number of offerings.\n",
        "      \n",
        "   ```   \n",
        "\n",
        "**3. Data Export:**\n",
        "\n",
        "```\n",
        "   - Dump the filtered and analysed data into a CSV file for further processing and reporting.\n",
        "\n",
        "   - Keep the CSV file in your Drive Folder and Share the Drive link on the colab while keeping view access with anyone.\n",
        "```\n",
        "\n",
        "**Submission:**\n",
        "```\n",
        "- Submit a link to your Colab made for the assignment.\n",
        "\n",
        "- The Colab should contain your Python script (.py format only) with clear\n",
        "  comments explaining the scraping, filtering, and analysis process.\n",
        "\n",
        "- Your Code shouldn't have any errors and should be executable at a one go.\n",
        "\n",
        "- Before Conclusion, Keep your Dataset Drive Link in the Notebook.\n",
        "```\n",
        "\n",
        "\n",
        "\n",
        "**Note:**\n",
        "\n",
        "1. Properly handle errors and exceptions during web scraping to ensure a robust script.\n",
        "\n",
        "2. Make sure your code is well-structured, easy to understand, and follows Python best practices.\n",
        "\n",
        "3. The assignment will be evaluated based on the correctness of the scraped data, accuracy of data filtering and analysis, and the overall quality of the Python code.\n",
        "\n",
        "\n",
        "\n",
        "\n",
        "\n",
        "\n"
      ],
      "metadata": {
        "id": "YU_opgaCYpcO"
      }
    },
    {
      "cell_type": "markdown",
      "source": [
        "# **Start The Project**"
      ],
      "metadata": {
        "id": "k8ptoMlNQ5zB"
      }
    },
    {
      "cell_type": "markdown",
      "source": [
        "## **Task 1:- Web Scrapping**"
      ],
      "metadata": {
        "id": "-xHLaFLPn4yC"
      }
    },
    {
      "cell_type": "code",
      "source": [
        "#Installing all necessary labraries\n",
        "!pip install bs4\n",
        "!pip install requests\n",
        "!pip install wordcloud"
      ],
      "metadata": {
        "id": "axiEsy9ZL3qd",
        "colab": {
          "base_uri": "https://localhost:8080/"
        },
        "outputId": "3c2b2320-2667-408d-de84-fc9dee77a103"
      },
      "execution_count": null,
      "outputs": [
        {
          "output_type": "stream",
          "name": "stdout",
          "text": [
            "Collecting bs4\n",
            "  Downloading bs4-0.0.2-py2.py3-none-any.whl (1.2 kB)\n",
            "Requirement already satisfied: beautifulsoup4 in /usr/local/lib/python3.10/dist-packages (from bs4) (4.12.3)\n",
            "Requirement already satisfied: soupsieve>1.2 in /usr/local/lib/python3.10/dist-packages (from beautifulsoup4->bs4) (2.5)\n",
            "Installing collected packages: bs4\n",
            "Successfully installed bs4-0.0.2\n",
            "Requirement already satisfied: requests in /usr/local/lib/python3.10/dist-packages (2.31.0)\n",
            "Requirement already satisfied: charset-normalizer<4,>=2 in /usr/local/lib/python3.10/dist-packages (from requests) (3.3.2)\n",
            "Requirement already satisfied: idna<4,>=2.5 in /usr/local/lib/python3.10/dist-packages (from requests) (3.6)\n",
            "Requirement already satisfied: urllib3<3,>=1.21.1 in /usr/local/lib/python3.10/dist-packages (from requests) (2.0.7)\n",
            "Requirement already satisfied: certifi>=2017.4.17 in /usr/local/lib/python3.10/dist-packages (from requests) (2024.2.2)\n",
            "Requirement already satisfied: wordcloud in /usr/local/lib/python3.10/dist-packages (1.9.3)\n",
            "Requirement already satisfied: numpy>=1.6.1 in /usr/local/lib/python3.10/dist-packages (from wordcloud) (1.25.2)\n",
            "Requirement already satisfied: pillow in /usr/local/lib/python3.10/dist-packages (from wordcloud) (9.4.0)\n",
            "Requirement already satisfied: matplotlib in /usr/local/lib/python3.10/dist-packages (from wordcloud) (3.7.1)\n",
            "Requirement already satisfied: contourpy>=1.0.1 in /usr/local/lib/python3.10/dist-packages (from matplotlib->wordcloud) (1.2.0)\n",
            "Requirement already satisfied: cycler>=0.10 in /usr/local/lib/python3.10/dist-packages (from matplotlib->wordcloud) (0.12.1)\n",
            "Requirement already satisfied: fonttools>=4.22.0 in /usr/local/lib/python3.10/dist-packages (from matplotlib->wordcloud) (4.48.1)\n",
            "Requirement already satisfied: kiwisolver>=1.0.1 in /usr/local/lib/python3.10/dist-packages (from matplotlib->wordcloud) (1.4.5)\n",
            "Requirement already satisfied: packaging>=20.0 in /usr/local/lib/python3.10/dist-packages (from matplotlib->wordcloud) (23.2)\n",
            "Requirement already satisfied: pyparsing>=2.3.1 in /usr/local/lib/python3.10/dist-packages (from matplotlib->wordcloud) (3.1.1)\n",
            "Requirement already satisfied: python-dateutil>=2.7 in /usr/local/lib/python3.10/dist-packages (from matplotlib->wordcloud) (2.8.2)\n",
            "Requirement already satisfied: six>=1.5 in /usr/local/lib/python3.10/dist-packages (from python-dateutil>=2.7->matplotlib->wordcloud) (1.16.0)\n"
          ]
        }
      ]
    },
    {
      "cell_type": "code",
      "source": [
        "#import all necessary labraries\n",
        "import requests\n",
        "from bs4 import BeautifulSoup\n",
        "import re\n",
        "import pandas as pd\n",
        "import numpy as np\n",
        "import time\n",
        "from wordcloud import WordCloud\n",
        "import matplotlib.pyplot as plt"
      ],
      "metadata": {
        "id": "omJlLZASQBmU"
      },
      "execution_count": null,
      "outputs": []
    },
    {
      "cell_type": "markdown",
      "source": [
        "## **Scrapping Movies Data**"
      ],
      "metadata": {
        "id": "NCWbwB1Og3bD"
      }
    },
    {
      "cell_type": "code",
      "source": [
        "# Specifying the URL from which movies related data will be fetched\n",
        "url='https://www.justwatch.com/in/movies?release_year_from=2000'\n",
        "\n",
        "# Sending an HTTP GET request to the URL\n",
        "page=requests.get(url)\n",
        "# Parsing the HTML content using BeautifulSoup with the 'html.parser'\n",
        "soup=BeautifulSoup(page.text,'html.parser')\n",
        "# Printing the prettified HTML content\n",
        "# print(soup.prettify())"
      ],
      "metadata": {
        "id": "nPDgza5mQJKr"
      },
      "execution_count": null,
      "outputs": []
    },
    {
      "cell_type": "code",
      "source": [
        "movie_info = soup.find_all('div', class_='title-list-grid__item')"
      ],
      "metadata": {
        "id": "fm_uy7Vgx9sm"
      },
      "execution_count": null,
      "outputs": []
    },
    {
      "cell_type": "markdown",
      "source": [
        "## **Fetching Movie URL's**"
      ],
      "metadata": {
        "id": "V-qsNrtIsBEp"
      }
    },
    {
      "cell_type": "code",
      "source": [
        "movie_url_list = []\n",
        "for movie in movie_info:\n",
        "  get_link = movie.find('a')['href']\n",
        "  links = 'https://www.justwatch.com'+ get_link\n",
        "  movie_url_list.append(links)\n",
        "movie_url_list\n",
        "len(movie_url_list)"
      ],
      "metadata": {
        "colab": {
          "base_uri": "https://localhost:8080/"
        },
        "id": "j8IFOVdxvIZj",
        "outputId": "777035f3-95d5-4ea9-acf1-554cdaad330c"
      },
      "execution_count": null,
      "outputs": [
        {
          "output_type": "execute_result",
          "data": {
            "text/plain": [
              "100"
            ]
          },
          "metadata": {},
          "execution_count": 5
        }
      ]
    },
    {
      "cell_type": "markdown",
      "source": [
        "## **Iterating Through each url and scrap all the details**"
      ],
      "metadata": {
        "id": "-zbTgJ1_Culi"
      }
    },
    {
      "cell_type": "code",
      "source": [
        "%%time\n",
        "# making the empty list for all the details\n",
        "movie_title_list = []\n",
        "release_year_list = []\n",
        "genres_list = []\n",
        "imdb_rating_list = []\n",
        "runtime_list = []\n",
        "age_rating_list = []\n",
        "production_countries_list = []\n",
        "streaming_service_list = []\n",
        "\n",
        "#iterating the movie url from the url list.\n",
        "for movie_url in movie_url_list:\n",
        "  print(f\"Scraping for movie url {movie_url}\")\n",
        "  # Requesting the response from each movie url\n",
        "  response = requests.get(movie_url)\n",
        "  #exception handling for success and not found\n",
        "  if response.status_code==200:\n",
        "    url_soup = BeautifulSoup(response.text, 'html.parser')\n",
        "\n",
        "    #Extract movie title\n",
        "    title_tag = url_soup.find('div', class_='title-block' )\n",
        "    if title_tag:\n",
        "      movie_title = title_tag.find('h1').text.strip()\n",
        "      movie_title_list.append(movie_title)\n",
        "    else:\n",
        "      movie_title_list.append(None)\n",
        "\n",
        "    #Extract Release Year\n",
        "    year_tag = url_soup.find('span', class_='text-muted')\n",
        "    if year_tag:\n",
        "      release_year = re.sub(r\"\\(|\\)\", \"\", year_tag.text.strip())\n",
        "      release_year_list.append(release_year)\n",
        "    else:\n",
        "      release_year_list.append(None)\n",
        "\n",
        "    #Extract Genres.\n",
        "    genre_tag = url_soup.find('h3', text='Genres')\n",
        "    if genre_tag:\n",
        "      genres = genre_tag.find_next_sibling('div', class_='detail-infos__value').text.strip()\n",
        "      genres_list.append(genres)\n",
        "    else:\n",
        "      genres_list.append(None)\n",
        "\n",
        "    #Extract imdb rating\n",
        "    rating_tag = url_soup.find('img', alt='IMDB')\n",
        "    if rating_tag:\n",
        "      imdb_rating = rating_tag.find_next_sibling('span').text.strip()\n",
        "      imdb_rating_list.append(imdb_rating[:3])\n",
        "    else:\n",
        "      imdb_rating_list.append(None)\n",
        "\n",
        "    # Extract runtime\n",
        "    runtime_tag = url_soup.find('h3', text='Runtime')\n",
        "    if runtime_tag:\n",
        "      runtime = runtime_tag.find_next_sibling('div', class_='detail-infos__value').text.strip()\n",
        "      runtime_list.append(runtime)\n",
        "    else:\n",
        "      runtime_list.append(None)\n",
        "\n",
        "    #Extract age rating\n",
        "    age_rating_tag = url_soup.find('h3', text = 'Age rating')\n",
        "    if age_rating_tag:\n",
        "      age_rating = age_rating_tag.find_next_sibling('div', class_='detail-infos__value').text.strip()\n",
        "      age_rating_list.append(age_rating)\n",
        "    else:\n",
        "      age_rating_list.append(None)\n",
        "\n",
        "    #Extract Production countries\n",
        "    production_tag = url_soup.find('h3', text=' Production country ')\n",
        "    if production_tag:\n",
        "      prod_countries = production_tag.find_next_sibling('div', class_='detail-infos__value').text.strip()\n",
        "      production_countries_list.append(prod_countries)\n",
        "    else:\n",
        "      production_countries_list.append(None)\n",
        "\n",
        "    #Extract streaming service\n",
        "    streaming = url_soup.find('picture', class_='picture-wrapper')\n",
        "    if streaming:\n",
        "      strm_service = streaming.find('img')['alt']\n",
        "      streaming_service_list.append(strm_service)\n",
        "    else:\n",
        "      streaming_service_list.append(None)\n",
        "\n",
        "  else:\n",
        "    print(f\"Scraping Fail for Movie url {movie_url}\")"
      ],
      "metadata": {
        "colab": {
          "base_uri": "https://localhost:8080/"
        },
        "id": "ynBYE4B-C7ez",
        "outputId": "16d0a6de-edbe-4a52-f427-6cf344f70d79"
      },
      "execution_count": null,
      "outputs": [
        {
          "output_type": "stream",
          "name": "stdout",
          "text": [
            "Scraping for movie url https://www.justwatch.com/in/movie/animal-2022\n"
          ]
        },
        {
          "output_type": "stream",
          "name": "stderr",
          "text": [
            "<timed exec>:37: DeprecationWarning: The 'text' argument to find()-type methods is deprecated. Use 'string' instead.\n",
            "<timed exec>:53: DeprecationWarning: The 'text' argument to find()-type methods is deprecated. Use 'string' instead.\n",
            "<timed exec>:61: DeprecationWarning: The 'text' argument to find()-type methods is deprecated. Use 'string' instead.\n",
            "<timed exec>:69: DeprecationWarning: The 'text' argument to find()-type methods is deprecated. Use 'string' instead.\n"
          ]
        },
        {
          "output_type": "stream",
          "name": "stdout",
          "text": [
            "Scraping for movie url https://www.justwatch.com/in/movie/salaar\n",
            "Scraping for movie url https://www.justwatch.com/in/movie/12th-fail\n",
            "Scraping for movie url https://www.justwatch.com/in/movie/sam-bahadur\n",
            "Scraping for movie url https://www.justwatch.com/in/movie/aquaman-and-the-lost-kingdom\n",
            "Scraping for movie url https://www.justwatch.com/in/movie/hanu-man\n",
            "Scraping for movie url https://www.justwatch.com/in/movie/dunki\n",
            "Scraping for movie url https://www.justwatch.com/in/movie/oppenheimer\n",
            "Scraping for movie url https://www.justwatch.com/in/movie/ssmb-28\n",
            "Scraping for movie url https://www.justwatch.com/in/movie/nani30\n",
            "Scraping for movie url https://www.justwatch.com/in/movie/devil-2023\n",
            "Scraping for movie url https://www.justwatch.com/in/movie/sapta-sagaradaache-ello-side-b\n",
            "Scraping for movie url https://www.justwatch.com/in/movie/neru\n",
            "Scraping for movie url https://www.justwatch.com/in/movie/the-marvels\n",
            "Scraping for movie url https://www.justwatch.com/in/movie/the-kerala-story\n",
            "Scraping for movie url https://www.justwatch.com/in/movie/fighter-2022\n",
            "Scraping for movie url https://www.justwatch.com/in/movie/killers-of-the-flower-moon\n",
            "Scraping for movie url https://www.justwatch.com/in/movie/anyone-but-you\n",
            "Scraping for movie url https://www.justwatch.com/in/movie/captain-miller\n",
            "Scraping for movie url https://www.justwatch.com/in/movie/parking-2023\n",
            "Scraping for movie url https://www.justwatch.com/in/movie/mission-impossible-7\n",
            "Scraping for movie url https://www.justwatch.com/in/movie/jawan\n",
            "Scraping for movie url https://www.justwatch.com/in/movie/tiger-3\n",
            "Scraping for movie url https://www.justwatch.com/in/movie/the-beekeeper-2024\n",
            "Scraping for movie url https://www.justwatch.com/in/movie/migration\n",
            "Scraping for movie url https://www.justwatch.com/in/movie/guthlee-ladoo\n",
            "Scraping for movie url https://www.justwatch.com/in/movie/anatomie-dune-chute\n",
            "Scraping for movie url https://www.justwatch.com/in/movie/society-of-the-snow\n",
            "Scraping for movie url https://www.justwatch.com/in/movie/barbie-2023\n",
            "Scraping for movie url https://www.justwatch.com/in/movie/lift-0\n",
            "Scraping for movie url https://www.justwatch.com/in/movie/ayalaan\n",
            "Scraping for movie url https://www.justwatch.com/in/movie/saindhav\n",
            "Scraping for movie url https://www.justwatch.com/in/movie/poor-things\n",
            "Scraping for movie url https://www.justwatch.com/in/movie/joram\n",
            "Scraping for movie url https://www.justwatch.com/in/movie/saltburn\n",
            "Scraping for movie url https://www.justwatch.com/in/movie/past-lives\n",
            "Scraping for movie url https://www.justwatch.com/in/movie/kaathal-the-core\n",
            "Scraping for movie url https://www.justwatch.com/in/movie/talk-to-me-2022\n",
            "Scraping for movie url https://www.justwatch.com/in/movie/leo-2023\n",
            "Scraping for movie url https://www.justwatch.com/in/movie/joe-2023\n",
            "Scraping for movie url https://www.justwatch.com/in/movie/interstellar\n",
            "Scraping for movie url https://www.justwatch.com/in/movie/365-days\n",
            "Scraping for movie url https://www.justwatch.com/in/movie/dune-2021\n",
            "Scraping for movie url https://www.justwatch.com/in/movie/pindam\n",
            "Scraping for movie url https://www.justwatch.com/in/movie/777-charlie\n",
            "Scraping for movie url https://www.justwatch.com/in/movie/harry-potter-and-the-philosophers-stone\n",
            "Scraping for movie url https://www.justwatch.com/in/movie/merry-christmas-2024\n",
            "Scraping for movie url https://www.justwatch.com/in/movie/wonka\n",
            "Scraping for movie url https://www.justwatch.com/in/movie/dada-2023\n",
            "Scraping for movie url https://www.justwatch.com/in/movie/mangalavaram\n",
            "Scraping for movie url https://www.justwatch.com/in/movie/mad-max-fury-road\n",
            "Scraping for movie url https://www.justwatch.com/in/movie/blue-beetle\n",
            "Scraping for movie url https://www.justwatch.com/in/movie/the-family-plan\n",
            "Scraping for movie url https://www.justwatch.com/in/movie/rocky-aur-rani-ki-prem-kahani\n",
            "Scraping for movie url https://www.justwatch.com/in/movie/extra\n",
            "Scraping for movie url https://www.justwatch.com/in/movie/bhakshak\n",
            "Scraping for movie url https://www.justwatch.com/in/movie/jigarthanda-doublex\n",
            "Scraping for movie url https://www.justwatch.com/in/movie/napoleon-2023\n",
            "Scraping for movie url https://www.justwatch.com/in/movie/zara-hatke-zara-bach-ke\n",
            "Scraping for movie url https://www.justwatch.com/in/movie/chittha\n",
            "Scraping for movie url https://www.justwatch.com/in/movie/the-wolf-of-wall-street\n",
            "Scraping for movie url https://www.justwatch.com/in/movie/three-of-us\n",
            "Scraping for movie url https://www.justwatch.com/in/movie/badland-hunters\n",
            "Scraping for movie url https://www.justwatch.com/in/movie/kho-gaye-hum-kahan\n",
            "Scraping for movie url https://www.justwatch.com/in/movie/the-holdovers\n",
            "Scraping for movie url https://www.justwatch.com/in/movie/starfish-2023\n",
            "Scraping for movie url https://www.justwatch.com/in/movie/uri-the-surgical-strike\n",
            "Scraping for movie url https://www.justwatch.com/in/movie/atharva\n",
            "Scraping for movie url https://www.justwatch.com/in/movie/inception\n",
            "Scraping for movie url https://www.justwatch.com/in/movie/yaariyan-2\n",
            "Scraping for movie url https://www.justwatch.com/in/movie/antony-2023\n",
            "Scraping for movie url https://www.justwatch.com/in/movie/the-batman\n",
            "Scraping for movie url https://www.justwatch.com/in/movie/dumb-money\n",
            "Scraping for movie url https://www.justwatch.com/in/movie/aquaman\n",
            "Scraping for movie url https://www.justwatch.com/in/movie/the-creator\n",
            "Scraping for movie url https://www.justwatch.com/in/movie/kannagi\n",
            "Scraping for movie url https://www.justwatch.com/in/movie/godzilla-minus-one\n",
            "Scraping for movie url https://www.justwatch.com/in/movie/gadar-2\n",
            "Scraping for movie url https://www.justwatch.com/in/movie/the-passenger-2023\n",
            "Scraping for movie url https://www.justwatch.com/in/movie/the-kid-who-would-be-king\n",
            "Scraping for movie url https://www.justwatch.com/in/movie/upgraded\n",
            "Scraping for movie url https://www.justwatch.com/in/movie/role-play-2023\n",
            "Scraping for movie url https://www.justwatch.com/in/movie/blade-runner-2049\n",
            "Scraping for movie url https://www.justwatch.com/in/movie/warning-2\n",
            "Scraping for movie url https://www.justwatch.com/in/movie/andhadhun\n",
            "Scraping for movie url https://www.justwatch.com/in/movie/inglourious-basterds\n",
            "Scraping for movie url https://www.justwatch.com/in/movie/toby\n",
            "Scraping for movie url https://www.justwatch.com/in/movie/spider-man-into-the-spider-verse-2\n",
            "Scraping for movie url https://www.justwatch.com/in/movie/orion-and-the-dark\n",
            "Scraping for movie url https://www.justwatch.com/in/movie/the-flash\n",
            "Scraping for movie url https://www.justwatch.com/in/movie/20-000-species-of-bees\n",
            "Scraping for movie url https://www.justwatch.com/in/movie/the-zone-of-interest\n",
            "Scraping for movie url https://www.justwatch.com/in/movie/fast-x\n",
            "Scraping for movie url https://www.justwatch.com/in/movie/main-atal-hoon\n",
            "Scraping for movie url https://www.justwatch.com/in/movie/joker-2019\n",
            "Scraping for movie url https://www.justwatch.com/in/movie/the-nun-ii\n",
            "Scraping for movie url https://www.justwatch.com/in/movie/top-gun-maverick\n",
            "Scraping for movie url https://www.justwatch.com/in/movie/manchester-by-the-sea\n",
            "Scraping for movie url https://www.justwatch.com/in/movie/agent\n",
            "Scraping for movie url https://www.justwatch.com/in/movie/rockstar\n",
            "CPU times: user 17.9 s, sys: 296 ms, total: 18.2 s\n",
            "Wall time: 55.7 s\n"
          ]
        }
      ]
    },
    {
      "cell_type": "markdown",
      "source": [
        "## **Scrapping Movie Title**"
      ],
      "metadata": {
        "id": "Dam_ehZgvgmw"
      }
    },
    {
      "cell_type": "code",
      "source": [
        "len(movie_title_list)"
      ],
      "metadata": {
        "id": "gS0_pjRA6oDQ",
        "colab": {
          "base_uri": "https://localhost:8080/"
        },
        "outputId": "64333f15-ab09-44ab-b14d-9d3c43a15c5d"
      },
      "execution_count": null,
      "outputs": [
        {
          "output_type": "execute_result",
          "data": {
            "text/plain": [
              "100"
            ]
          },
          "metadata": {},
          "execution_count": 7
        }
      ]
    },
    {
      "cell_type": "markdown",
      "source": [
        "## **Scrapping release Year**"
      ],
      "metadata": {
        "id": "VEg1U1uPzGoj"
      }
    },
    {
      "cell_type": "code",
      "source": [
        "release_year_list[:50]"
      ],
      "metadata": {
        "id": "wLqLKOvP5Gmt",
        "colab": {
          "base_uri": "https://localhost:8080/"
        },
        "outputId": "062c3d1e-e8bf-46ff-a4e1-c9b3312d45b7"
      },
      "execution_count": null,
      "outputs": [
        {
          "output_type": "execute_result",
          "data": {
            "text/plain": [
              "['2023',\n",
              " '2023',\n",
              " '2023',\n",
              " '2023',\n",
              " '2023',\n",
              " '2024',\n",
              " '2023',\n",
              " '2023',\n",
              " '2024',\n",
              " '2023',\n",
              " '2023',\n",
              " '2023',\n",
              " '2023',\n",
              " '2023',\n",
              " '2023',\n",
              " '2024',\n",
              " '2023',\n",
              " '2023',\n",
              " '2024',\n",
              " '2023',\n",
              " '2023',\n",
              " '2023',\n",
              " '2023',\n",
              " '2024',\n",
              " '2023',\n",
              " '2023',\n",
              " '2023',\n",
              " '2023',\n",
              " '2023',\n",
              " '2024',\n",
              " '2024',\n",
              " '2024',\n",
              " '2023',\n",
              " '2023',\n",
              " '2023',\n",
              " '2023',\n",
              " '2023',\n",
              " '2023',\n",
              " '2023',\n",
              " '2023',\n",
              " '2014',\n",
              " '2020',\n",
              " '2021',\n",
              " '2023',\n",
              " '2022',\n",
              " '2001',\n",
              " '2024',\n",
              " '2023',\n",
              " '2023',\n",
              " '2023']"
            ]
          },
          "metadata": {},
          "execution_count": 8
        }
      ]
    },
    {
      "cell_type": "markdown",
      "source": [
        "## **Scrapping Genres**"
      ],
      "metadata": {
        "id": "aqzhL8STqaMX"
      }
    },
    {
      "cell_type": "code",
      "source": [
        "# Write Your Code here\n",
        "genres_list[:50]"
      ],
      "metadata": {
        "id": "NYGVsfKjrDWr",
        "colab": {
          "base_uri": "https://localhost:8080/"
        },
        "outputId": "483628d2-9140-44cd-912b-c78f799e2353"
      },
      "execution_count": null,
      "outputs": [
        {
          "output_type": "execute_result",
          "data": {
            "text/plain": [
              "['Action & Adventure, Crime, Drama, Mystery & Thriller',\n",
              " 'Action & Adventure, Crime, Drama, Mystery & Thriller',\n",
              " 'Drama',\n",
              " 'War & Military, Drama, History',\n",
              " 'Fantasy, Action & Adventure, Science-Fiction',\n",
              " 'Comedy, Fantasy, Action & Adventure',\n",
              " 'Drama, Comedy',\n",
              " 'Drama, History',\n",
              " 'Action & Adventure, Drama, Kids & Family',\n",
              " 'Kids & Family, Romance, Drama',\n",
              " 'Mystery & Thriller, Action & Adventure, Drama',\n",
              " 'Drama, Romance',\n",
              " 'Drama, Mystery & Thriller',\n",
              " 'Science-Fiction, Action & Adventure, Fantasy',\n",
              " 'Drama',\n",
              " 'Action & Adventure, Mystery & Thriller, War & Military',\n",
              " 'Crime, History, Drama, Romance, Western',\n",
              " 'Comedy, Romance',\n",
              " 'Drama, Mystery & Thriller, Action & Adventure',\n",
              " 'Mystery & Thriller, Drama',\n",
              " 'Mystery & Thriller, Action & Adventure',\n",
              " 'Mystery & Thriller, Action & Adventure',\n",
              " 'Action & Adventure, Mystery & Thriller',\n",
              " 'Mystery & Thriller, Action & Adventure',\n",
              " 'Action & Adventure, Comedy, Kids & Family, Animation, Fantasy',\n",
              " 'Drama',\n",
              " 'Drama, Crime, Mystery & Thriller',\n",
              " 'Drama, History, Mystery & Thriller',\n",
              " 'Action & Adventure, Fantasy, Comedy',\n",
              " 'Comedy, Crime, Drama, Mystery & Thriller, Action & Adventure',\n",
              " 'Science-Fiction, Action & Adventure',\n",
              " 'Action & Adventure, Crime, Drama, Mystery & Thriller',\n",
              " 'Science-Fiction, Romance, Comedy, Drama',\n",
              " 'Mystery & Thriller, Action & Adventure, Crime, Drama',\n",
              " 'Drama, Comedy, Mystery & Thriller',\n",
              " 'Romance, Drama',\n",
              " 'Drama, Crime',\n",
              " 'Horror, Mystery & Thriller',\n",
              " 'Action & Adventure, Mystery & Thriller, Crime, Drama',\n",
              " 'Drama',\n",
              " 'Drama, Science-Fiction',\n",
              " 'Drama, Romance, Made in Europe',\n",
              " 'Science-Fiction, Action & Adventure, Drama',\n",
              " 'Horror, Mystery & Thriller',\n",
              " 'Comedy, Drama',\n",
              " 'Fantasy, Action & Adventure, Kids & Family',\n",
              " 'Drama, Mystery & Thriller',\n",
              " 'Comedy, Kids & Family, Fantasy',\n",
              " 'Romance, Drama, Comedy, Kids & Family',\n",
              " 'Action & Adventure, Horror, Mystery & Thriller']"
            ]
          },
          "metadata": {},
          "execution_count": 9
        }
      ]
    },
    {
      "cell_type": "markdown",
      "source": [
        "## **Scrapping IMBD Rating**"
      ],
      "metadata": {
        "id": "UOof6-0xFuf6"
      }
    },
    {
      "cell_type": "code",
      "source": [
        "# Write Your Code here\n",
        "imdb_rating_list"
      ],
      "metadata": {
        "id": "gW467MLx6aCH",
        "colab": {
          "base_uri": "https://localhost:8080/"
        },
        "outputId": "39acc07a-17bf-4753-d4b7-2db4f90b3698"
      },
      "execution_count": null,
      "outputs": [
        {
          "output_type": "execute_result",
          "data": {
            "text/plain": [
              "['6.4',\n",
              " '6.5',\n",
              " '9.1',\n",
              " '7.9',\n",
              " '5.7',\n",
              " '8.5',\n",
              " '7.2',\n",
              " '8.4',\n",
              " '5.7',\n",
              " '8.3',\n",
              " '6.7',\n",
              " '8.1',\n",
              " '7.6',\n",
              " '5.6',\n",
              " '7.1',\n",
              " '7.4',\n",
              " '7.7',\n",
              " '6.5',\n",
              " '7.0',\n",
              " '7.9',\n",
              " '7.7',\n",
              " '7.0',\n",
              " '5.8',\n",
              " '6.4',\n",
              " '6.7',\n",
              " '7.8',\n",
              " '7.8',\n",
              " '7.9',\n",
              " '6.9',\n",
              " '5.5',\n",
              " '6.2',\n",
              " '5.1',\n",
              " None,\n",
              " '6.8',\n",
              " '7.0',\n",
              " '7.9',\n",
              " '7.6',\n",
              " '7.1',\n",
              " '7.2',\n",
              " '7.6',\n",
              " '8.7',\n",
              " '3.3',\n",
              " '8.0',\n",
              " '8.3',\n",
              " '8.8',\n",
              " '7.6',\n",
              " '7.8',\n",
              " '7.1',\n",
              " '8.2',\n",
              " '6.7',\n",
              " '8.1',\n",
              " '6.0',\n",
              " '6.3',\n",
              " '6.6',\n",
              " '5.2',\n",
              " '7.3',\n",
              " '8.1',\n",
              " '6.4',\n",
              " '6.4',\n",
              " '8.3',\n",
              " '8.2',\n",
              " '7.5',\n",
              " '5.9',\n",
              " '7.6',\n",
              " '8.0',\n",
              " '6.0',\n",
              " '8.2',\n",
              " '7.5',\n",
              " '8.8',\n",
              " '6.0',\n",
              " '6.7',\n",
              " '7.8',\n",
              " '6.9',\n",
              " '6.8',\n",
              " '6.8',\n",
              " '7.1',\n",
              " '8.3',\n",
              " '5.2',\n",
              " '6.4',\n",
              " '6.1',\n",
              " '6.1',\n",
              " '5.4',\n",
              " '8.0',\n",
              " '7.8',\n",
              " '8.2',\n",
              " '8.4',\n",
              " '7.3',\n",
              " '8.6',\n",
              " '6.4',\n",
              " '6.7',\n",
              " '7.0',\n",
              " '7.9',\n",
              " '5.8',\n",
              " '7.4',\n",
              " '8.4',\n",
              " '5.6',\n",
              " '8.3',\n",
              " '7.8',\n",
              " '4.2',\n",
              " '7.7']"
            ]
          },
          "metadata": {},
          "execution_count": 10
        }
      ]
    },
    {
      "cell_type": "markdown",
      "source": [
        "## **Scrapping Runtime/Duration**"
      ],
      "metadata": {
        "id": "8CHiu0A5RAuM"
      }
    },
    {
      "cell_type": "code",
      "source": [
        "# Write Your Code here\n",
        "runtime_list[:50]"
      ],
      "metadata": {
        "id": "si_yaGO8OTBo",
        "colab": {
          "base_uri": "https://localhost:8080/"
        },
        "outputId": "ccf18137-051c-4c8f-ed0d-c2390559a9db"
      },
      "execution_count": null,
      "outputs": [
        {
          "output_type": "execute_result",
          "data": {
            "text/plain": [
              "['3h 21min',\n",
              " '2h 55min',\n",
              " '2h 26min',\n",
              " '2h 30min',\n",
              " '2h 4min',\n",
              " '2h 39min',\n",
              " '2h 40min',\n",
              " '3h 0min',\n",
              " '2h 39min',\n",
              " '2h 35min',\n",
              " '2h 24min',\n",
              " '2h 28min',\n",
              " '2h 30min',\n",
              " '1h 45min',\n",
              " '2h 18min',\n",
              " '2h 47min',\n",
              " '3h 26min',\n",
              " '1h 43min',\n",
              " '2h 37min',\n",
              " '2h 7min',\n",
              " '2h 44min',\n",
              " '2h 49min',\n",
              " '2h 35min',\n",
              " '1h 45min',\n",
              " '1h 23min',\n",
              " '1h 45min',\n",
              " '2h 31min',\n",
              " '2h 24min',\n",
              " '1h 54min',\n",
              " '1h 46min',\n",
              " '2h 35min',\n",
              " '2h 18min',\n",
              " '2h 21min',\n",
              " '1h 57min',\n",
              " '2h 11min',\n",
              " '1h 46min',\n",
              " '1h 52min',\n",
              " '1h 35min',\n",
              " '2h 43min',\n",
              " '2h 27min',\n",
              " '2h 49min',\n",
              " '1h 54min',\n",
              " '2h 35min',\n",
              " '2h 38min',\n",
              " '2h 46min',\n",
              " '2h 32min',\n",
              " '2h 24min',\n",
              " '1h 56min',\n",
              " '2h 15min',\n",
              " '2h 25min']"
            ]
          },
          "metadata": {},
          "execution_count": 11
        }
      ]
    },
    {
      "cell_type": "markdown",
      "source": [
        "## **Scrapping Age Rating**"
      ],
      "metadata": {
        "id": "edb4gsNcRJQN"
      }
    },
    {
      "cell_type": "code",
      "source": [
        "# Write Your Code here\n",
        "age_rating_list[50]"
      ],
      "metadata": {
        "id": "ZsHskhOcNAUj",
        "colab": {
          "base_uri": "https://localhost:8080/",
          "height": 36
        },
        "outputId": "e9d1495f-4b6b-45c1-c04e-ecb5264d642f"
      },
      "execution_count": null,
      "outputs": [
        {
          "output_type": "execute_result",
          "data": {
            "text/plain": [
              "'A'"
            ],
            "application/vnd.google.colaboratory.intrinsic+json": {
              "type": "string"
            }
          },
          "metadata": {},
          "execution_count": 12
        }
      ]
    },
    {
      "cell_type": "markdown",
      "source": [
        "## **Fetching Production Countries Details**"
      ],
      "metadata": {
        "id": "_RI5FD3CqFVV"
      }
    },
    {
      "cell_type": "code",
      "source": [
        "# Write Your Code here\n",
        "production_countries_list[50]"
      ],
      "metadata": {
        "id": "ai6YOgZmYIcc",
        "colab": {
          "base_uri": "https://localhost:8080/",
          "height": 36
        },
        "outputId": "277652ad-300c-4312-f4bc-99375da0f0cd"
      },
      "execution_count": null,
      "outputs": [
        {
          "output_type": "execute_result",
          "data": {
            "text/plain": [
              "'United States, Australia'"
            ],
            "application/vnd.google.colaboratory.intrinsic+json": {
              "type": "string"
            }
          },
          "metadata": {},
          "execution_count": 13
        }
      ]
    },
    {
      "cell_type": "markdown",
      "source": [
        "## **Fetching Streaming Service Details**"
      ],
      "metadata": {
        "id": "IrJlIsBWrO2r"
      }
    },
    {
      "cell_type": "code",
      "source": [
        "# Write Your Code here\n",
        "streaming_service_list[50]"
      ],
      "metadata": {
        "id": "Yk72jDLZu7EZ",
        "colab": {
          "base_uri": "https://localhost:8080/",
          "height": 36
        },
        "outputId": "66af58aa-2f5d-42ad-f161-6d8d8b4b895a"
      },
      "execution_count": null,
      "outputs": [
        {
          "output_type": "execute_result",
          "data": {
            "text/plain": [
              "'Apple TV'"
            ],
            "application/vnd.google.colaboratory.intrinsic+json": {
              "type": "string"
            }
          },
          "metadata": {},
          "execution_count": 14
        }
      ]
    },
    {
      "cell_type": "markdown",
      "source": [
        "## **Now Creating Movies DataFrame**"
      ],
      "metadata": {
        "id": "Mnh22VX_7f6K"
      }
    },
    {
      "cell_type": "code",
      "source": [
        "movies_df = pd.DataFrame()\n",
        "movies_df['Movie Title'] = movie_title_list\n",
        "movies_df['Movie Link'] = movie_url_list\n",
        "movies_df['Release Year'] = release_year_list\n",
        "movies_df['Genre'] = genres_list\n",
        "movies_df['IMDB Rating'] = imdb_rating_list\n",
        "movies_df['Runtime'] = runtime_list\n",
        "movies_df['Age Rating'] = age_rating_list\n",
        "movies_df['Production Countries'] = production_countries_list\n",
        "movies_df['Streaming Service'] = streaming_service_list\n",
        "movies_df"
      ],
      "metadata": {
        "id": "i7XQUICP5oBI",
        "colab": {
          "base_uri": "https://localhost:8080/",
          "height": 614
        },
        "outputId": "f0a83a3b-60bc-4164-f6da-ed7430b169ce"
      },
      "execution_count": null,
      "outputs": [
        {
          "output_type": "execute_result",
          "data": {
            "text/plain": [
              "                     Movie Title  \\\n",
              "0                         Animal   \n",
              "1                         Salaar   \n",
              "2                      12th Fail   \n",
              "3                    Sam Bahadur   \n",
              "4   Aquaman and the Lost Kingdom   \n",
              "..                           ...   \n",
              "95                    The Nun II   \n",
              "96             Top Gun: Maverick   \n",
              "97         Manchester by the Sea   \n",
              "98                         Agent   \n",
              "99                      Rockstar   \n",
              "\n",
              "                                           Movie Link Release Year  \\\n",
              "0      https://www.justwatch.com/in/movie/animal-2022         2023   \n",
              "1           https://www.justwatch.com/in/movie/salaar         2023   \n",
              "2        https://www.justwatch.com/in/movie/12th-fail         2023   \n",
              "3      https://www.justwatch.com/in/movie/sam-bahadur         2023   \n",
              "4   https://www.justwatch.com/in/movie/aquaman-and...         2023   \n",
              "..                                                ...          ...   \n",
              "95      https://www.justwatch.com/in/movie/the-nun-ii         2023   \n",
              "96  https://www.justwatch.com/in/movie/top-gun-mav...         2022   \n",
              "97  https://www.justwatch.com/in/movie/manchester-...         2016   \n",
              "98           https://www.justwatch.com/in/movie/agent         2023   \n",
              "99        https://www.justwatch.com/in/movie/rockstar         2011   \n",
              "\n",
              "                                                Genre IMDB Rating   Runtime  \\\n",
              "0   Action & Adventure, Crime, Drama, Mystery & Th...         6.4  3h 21min   \n",
              "1   Action & Adventure, Crime, Drama, Mystery & Th...         6.5  2h 55min   \n",
              "2                                               Drama         9.1  2h 26min   \n",
              "3                      War & Military, Drama, History         7.9  2h 30min   \n",
              "4        Fantasy, Action & Adventure, Science-Fiction         5.7   2h 4min   \n",
              "..                                                ...         ...       ...   \n",
              "95                         Horror, Mystery & Thriller         5.6  1h 50min   \n",
              "96                          Drama, Action & Adventure         8.3  2h 10min   \n",
              "97                                              Drama         7.8  2h 18min   \n",
              "98             Mystery & Thriller, Action & Adventure         4.2  2h 34min   \n",
              "99                    Drama, Music & Musical, Romance         7.7  2h 39min   \n",
              "\n",
              "   Age Rating Production Countries Streaming Service  \n",
              "0           A                India           Netflix  \n",
              "1           A                India           Netflix  \n",
              "2        None                India           Hotstar  \n",
              "3          UA                India              Zee5  \n",
              "4        None        United States          Apple TV  \n",
              "..        ...                  ...               ...  \n",
              "95          A        United States          Apple TV  \n",
              "96         UA        United States          Apple TV  \n",
              "97          A        United States          Apple TV  \n",
              "98         UA                India              None  \n",
              "99         UA                India          Apple TV  \n",
              "\n",
              "[100 rows x 9 columns]"
            ],
            "text/html": [
              "\n",
              "  <div id=\"df-6c8ea37b-cc79-4bc3-a640-3565a8e1cbbf\" class=\"colab-df-container\">\n",
              "    <div>\n",
              "<style scoped>\n",
              "    .dataframe tbody tr th:only-of-type {\n",
              "        vertical-align: middle;\n",
              "    }\n",
              "\n",
              "    .dataframe tbody tr th {\n",
              "        vertical-align: top;\n",
              "    }\n",
              "\n",
              "    .dataframe thead th {\n",
              "        text-align: right;\n",
              "    }\n",
              "</style>\n",
              "<table border=\"1\" class=\"dataframe\">\n",
              "  <thead>\n",
              "    <tr style=\"text-align: right;\">\n",
              "      <th></th>\n",
              "      <th>Movie Title</th>\n",
              "      <th>Movie Link</th>\n",
              "      <th>Release Year</th>\n",
              "      <th>Genre</th>\n",
              "      <th>IMDB Rating</th>\n",
              "      <th>Runtime</th>\n",
              "      <th>Age Rating</th>\n",
              "      <th>Production Countries</th>\n",
              "      <th>Streaming Service</th>\n",
              "    </tr>\n",
              "  </thead>\n",
              "  <tbody>\n",
              "    <tr>\n",
              "      <th>0</th>\n",
              "      <td>Animal</td>\n",
              "      <td>https://www.justwatch.com/in/movie/animal-2022</td>\n",
              "      <td>2023</td>\n",
              "      <td>Action &amp; Adventure, Crime, Drama, Mystery &amp; Th...</td>\n",
              "      <td>6.4</td>\n",
              "      <td>3h 21min</td>\n",
              "      <td>A</td>\n",
              "      <td>India</td>\n",
              "      <td>Netflix</td>\n",
              "    </tr>\n",
              "    <tr>\n",
              "      <th>1</th>\n",
              "      <td>Salaar</td>\n",
              "      <td>https://www.justwatch.com/in/movie/salaar</td>\n",
              "      <td>2023</td>\n",
              "      <td>Action &amp; Adventure, Crime, Drama, Mystery &amp; Th...</td>\n",
              "      <td>6.5</td>\n",
              "      <td>2h 55min</td>\n",
              "      <td>A</td>\n",
              "      <td>India</td>\n",
              "      <td>Netflix</td>\n",
              "    </tr>\n",
              "    <tr>\n",
              "      <th>2</th>\n",
              "      <td>12th Fail</td>\n",
              "      <td>https://www.justwatch.com/in/movie/12th-fail</td>\n",
              "      <td>2023</td>\n",
              "      <td>Drama</td>\n",
              "      <td>9.1</td>\n",
              "      <td>2h 26min</td>\n",
              "      <td>None</td>\n",
              "      <td>India</td>\n",
              "      <td>Hotstar</td>\n",
              "    </tr>\n",
              "    <tr>\n",
              "      <th>3</th>\n",
              "      <td>Sam Bahadur</td>\n",
              "      <td>https://www.justwatch.com/in/movie/sam-bahadur</td>\n",
              "      <td>2023</td>\n",
              "      <td>War &amp; Military, Drama, History</td>\n",
              "      <td>7.9</td>\n",
              "      <td>2h 30min</td>\n",
              "      <td>UA</td>\n",
              "      <td>India</td>\n",
              "      <td>Zee5</td>\n",
              "    </tr>\n",
              "    <tr>\n",
              "      <th>4</th>\n",
              "      <td>Aquaman and the Lost Kingdom</td>\n",
              "      <td>https://www.justwatch.com/in/movie/aquaman-and...</td>\n",
              "      <td>2023</td>\n",
              "      <td>Fantasy, Action &amp; Adventure, Science-Fiction</td>\n",
              "      <td>5.7</td>\n",
              "      <td>2h 4min</td>\n",
              "      <td>None</td>\n",
              "      <td>United States</td>\n",
              "      <td>Apple TV</td>\n",
              "    </tr>\n",
              "    <tr>\n",
              "      <th>...</th>\n",
              "      <td>...</td>\n",
              "      <td>...</td>\n",
              "      <td>...</td>\n",
              "      <td>...</td>\n",
              "      <td>...</td>\n",
              "      <td>...</td>\n",
              "      <td>...</td>\n",
              "      <td>...</td>\n",
              "      <td>...</td>\n",
              "    </tr>\n",
              "    <tr>\n",
              "      <th>95</th>\n",
              "      <td>The Nun II</td>\n",
              "      <td>https://www.justwatch.com/in/movie/the-nun-ii</td>\n",
              "      <td>2023</td>\n",
              "      <td>Horror, Mystery &amp; Thriller</td>\n",
              "      <td>5.6</td>\n",
              "      <td>1h 50min</td>\n",
              "      <td>A</td>\n",
              "      <td>United States</td>\n",
              "      <td>Apple TV</td>\n",
              "    </tr>\n",
              "    <tr>\n",
              "      <th>96</th>\n",
              "      <td>Top Gun: Maverick</td>\n",
              "      <td>https://www.justwatch.com/in/movie/top-gun-mav...</td>\n",
              "      <td>2022</td>\n",
              "      <td>Drama, Action &amp; Adventure</td>\n",
              "      <td>8.3</td>\n",
              "      <td>2h 10min</td>\n",
              "      <td>UA</td>\n",
              "      <td>United States</td>\n",
              "      <td>Apple TV</td>\n",
              "    </tr>\n",
              "    <tr>\n",
              "      <th>97</th>\n",
              "      <td>Manchester by the Sea</td>\n",
              "      <td>https://www.justwatch.com/in/movie/manchester-...</td>\n",
              "      <td>2016</td>\n",
              "      <td>Drama</td>\n",
              "      <td>7.8</td>\n",
              "      <td>2h 18min</td>\n",
              "      <td>A</td>\n",
              "      <td>United States</td>\n",
              "      <td>Apple TV</td>\n",
              "    </tr>\n",
              "    <tr>\n",
              "      <th>98</th>\n",
              "      <td>Agent</td>\n",
              "      <td>https://www.justwatch.com/in/movie/agent</td>\n",
              "      <td>2023</td>\n",
              "      <td>Mystery &amp; Thriller, Action &amp; Adventure</td>\n",
              "      <td>4.2</td>\n",
              "      <td>2h 34min</td>\n",
              "      <td>UA</td>\n",
              "      <td>India</td>\n",
              "      <td>None</td>\n",
              "    </tr>\n",
              "    <tr>\n",
              "      <th>99</th>\n",
              "      <td>Rockstar</td>\n",
              "      <td>https://www.justwatch.com/in/movie/rockstar</td>\n",
              "      <td>2011</td>\n",
              "      <td>Drama, Music &amp; Musical, Romance</td>\n",
              "      <td>7.7</td>\n",
              "      <td>2h 39min</td>\n",
              "      <td>UA</td>\n",
              "      <td>India</td>\n",
              "      <td>Apple TV</td>\n",
              "    </tr>\n",
              "  </tbody>\n",
              "</table>\n",
              "<p>100 rows × 9 columns</p>\n",
              "</div>\n",
              "    <div class=\"colab-df-buttons\">\n",
              "\n",
              "  <div class=\"colab-df-container\">\n",
              "    <button class=\"colab-df-convert\" onclick=\"convertToInteractive('df-6c8ea37b-cc79-4bc3-a640-3565a8e1cbbf')\"\n",
              "            title=\"Convert this dataframe to an interactive table.\"\n",
              "            style=\"display:none;\">\n",
              "\n",
              "  <svg xmlns=\"http://www.w3.org/2000/svg\" height=\"24px\" viewBox=\"0 -960 960 960\">\n",
              "    <path d=\"M120-120v-720h720v720H120Zm60-500h600v-160H180v160Zm220 220h160v-160H400v160Zm0 220h160v-160H400v160ZM180-400h160v-160H180v160Zm440 0h160v-160H620v160ZM180-180h160v-160H180v160Zm440 0h160v-160H620v160Z\"/>\n",
              "  </svg>\n",
              "    </button>\n",
              "\n",
              "  <style>\n",
              "    .colab-df-container {\n",
              "      display:flex;\n",
              "      gap: 12px;\n",
              "    }\n",
              "\n",
              "    .colab-df-convert {\n",
              "      background-color: #E8F0FE;\n",
              "      border: none;\n",
              "      border-radius: 50%;\n",
              "      cursor: pointer;\n",
              "      display: none;\n",
              "      fill: #1967D2;\n",
              "      height: 32px;\n",
              "      padding: 0 0 0 0;\n",
              "      width: 32px;\n",
              "    }\n",
              "\n",
              "    .colab-df-convert:hover {\n",
              "      background-color: #E2EBFA;\n",
              "      box-shadow: 0px 1px 2px rgba(60, 64, 67, 0.3), 0px 1px 3px 1px rgba(60, 64, 67, 0.15);\n",
              "      fill: #174EA6;\n",
              "    }\n",
              "\n",
              "    .colab-df-buttons div {\n",
              "      margin-bottom: 4px;\n",
              "    }\n",
              "\n",
              "    [theme=dark] .colab-df-convert {\n",
              "      background-color: #3B4455;\n",
              "      fill: #D2E3FC;\n",
              "    }\n",
              "\n",
              "    [theme=dark] .colab-df-convert:hover {\n",
              "      background-color: #434B5C;\n",
              "      box-shadow: 0px 1px 3px 1px rgba(0, 0, 0, 0.15);\n",
              "      filter: drop-shadow(0px 1px 2px rgba(0, 0, 0, 0.3));\n",
              "      fill: #FFFFFF;\n",
              "    }\n",
              "  </style>\n",
              "\n",
              "    <script>\n",
              "      const buttonEl =\n",
              "        document.querySelector('#df-6c8ea37b-cc79-4bc3-a640-3565a8e1cbbf button.colab-df-convert');\n",
              "      buttonEl.style.display =\n",
              "        google.colab.kernel.accessAllowed ? 'block' : 'none';\n",
              "\n",
              "      async function convertToInteractive(key) {\n",
              "        const element = document.querySelector('#df-6c8ea37b-cc79-4bc3-a640-3565a8e1cbbf');\n",
              "        const dataTable =\n",
              "          await google.colab.kernel.invokeFunction('convertToInteractive',\n",
              "                                                    [key], {});\n",
              "        if (!dataTable) return;\n",
              "\n",
              "        const docLinkHtml = 'Like what you see? Visit the ' +\n",
              "          '<a target=\"_blank\" href=https://colab.research.google.com/notebooks/data_table.ipynb>data table notebook</a>'\n",
              "          + ' to learn more about interactive tables.';\n",
              "        element.innerHTML = '';\n",
              "        dataTable['output_type'] = 'display_data';\n",
              "        await google.colab.output.renderOutput(dataTable, element);\n",
              "        const docLink = document.createElement('div');\n",
              "        docLink.innerHTML = docLinkHtml;\n",
              "        element.appendChild(docLink);\n",
              "      }\n",
              "    </script>\n",
              "  </div>\n",
              "\n",
              "\n",
              "<div id=\"df-a418942b-0132-4768-98c0-7ec01b7eec4c\">\n",
              "  <button class=\"colab-df-quickchart\" onclick=\"quickchart('df-a418942b-0132-4768-98c0-7ec01b7eec4c')\"\n",
              "            title=\"Suggest charts\"\n",
              "            style=\"display:none;\">\n",
              "\n",
              "<svg xmlns=\"http://www.w3.org/2000/svg\" height=\"24px\"viewBox=\"0 0 24 24\"\n",
              "     width=\"24px\">\n",
              "    <g>\n",
              "        <path d=\"M19 3H5c-1.1 0-2 .9-2 2v14c0 1.1.9 2 2 2h14c1.1 0 2-.9 2-2V5c0-1.1-.9-2-2-2zM9 17H7v-7h2v7zm4 0h-2V7h2v10zm4 0h-2v-4h2v4z\"/>\n",
              "    </g>\n",
              "</svg>\n",
              "  </button>\n",
              "\n",
              "<style>\n",
              "  .colab-df-quickchart {\n",
              "      --bg-color: #E8F0FE;\n",
              "      --fill-color: #1967D2;\n",
              "      --hover-bg-color: #E2EBFA;\n",
              "      --hover-fill-color: #174EA6;\n",
              "      --disabled-fill-color: #AAA;\n",
              "      --disabled-bg-color: #DDD;\n",
              "  }\n",
              "\n",
              "  [theme=dark] .colab-df-quickchart {\n",
              "      --bg-color: #3B4455;\n",
              "      --fill-color: #D2E3FC;\n",
              "      --hover-bg-color: #434B5C;\n",
              "      --hover-fill-color: #FFFFFF;\n",
              "      --disabled-bg-color: #3B4455;\n",
              "      --disabled-fill-color: #666;\n",
              "  }\n",
              "\n",
              "  .colab-df-quickchart {\n",
              "    background-color: var(--bg-color);\n",
              "    border: none;\n",
              "    border-radius: 50%;\n",
              "    cursor: pointer;\n",
              "    display: none;\n",
              "    fill: var(--fill-color);\n",
              "    height: 32px;\n",
              "    padding: 0;\n",
              "    width: 32px;\n",
              "  }\n",
              "\n",
              "  .colab-df-quickchart:hover {\n",
              "    background-color: var(--hover-bg-color);\n",
              "    box-shadow: 0 1px 2px rgba(60, 64, 67, 0.3), 0 1px 3px 1px rgba(60, 64, 67, 0.15);\n",
              "    fill: var(--button-hover-fill-color);\n",
              "  }\n",
              "\n",
              "  .colab-df-quickchart-complete:disabled,\n",
              "  .colab-df-quickchart-complete:disabled:hover {\n",
              "    background-color: var(--disabled-bg-color);\n",
              "    fill: var(--disabled-fill-color);\n",
              "    box-shadow: none;\n",
              "  }\n",
              "\n",
              "  .colab-df-spinner {\n",
              "    border: 2px solid var(--fill-color);\n",
              "    border-color: transparent;\n",
              "    border-bottom-color: var(--fill-color);\n",
              "    animation:\n",
              "      spin 1s steps(1) infinite;\n",
              "  }\n",
              "\n",
              "  @keyframes spin {\n",
              "    0% {\n",
              "      border-color: transparent;\n",
              "      border-bottom-color: var(--fill-color);\n",
              "      border-left-color: var(--fill-color);\n",
              "    }\n",
              "    20% {\n",
              "      border-color: transparent;\n",
              "      border-left-color: var(--fill-color);\n",
              "      border-top-color: var(--fill-color);\n",
              "    }\n",
              "    30% {\n",
              "      border-color: transparent;\n",
              "      border-left-color: var(--fill-color);\n",
              "      border-top-color: var(--fill-color);\n",
              "      border-right-color: var(--fill-color);\n",
              "    }\n",
              "    40% {\n",
              "      border-color: transparent;\n",
              "      border-right-color: var(--fill-color);\n",
              "      border-top-color: var(--fill-color);\n",
              "    }\n",
              "    60% {\n",
              "      border-color: transparent;\n",
              "      border-right-color: var(--fill-color);\n",
              "    }\n",
              "    80% {\n",
              "      border-color: transparent;\n",
              "      border-right-color: var(--fill-color);\n",
              "      border-bottom-color: var(--fill-color);\n",
              "    }\n",
              "    90% {\n",
              "      border-color: transparent;\n",
              "      border-bottom-color: var(--fill-color);\n",
              "    }\n",
              "  }\n",
              "</style>\n",
              "\n",
              "  <script>\n",
              "    async function quickchart(key) {\n",
              "      const quickchartButtonEl =\n",
              "        document.querySelector('#' + key + ' button');\n",
              "      quickchartButtonEl.disabled = true;  // To prevent multiple clicks.\n",
              "      quickchartButtonEl.classList.add('colab-df-spinner');\n",
              "      try {\n",
              "        const charts = await google.colab.kernel.invokeFunction(\n",
              "            'suggestCharts', [key], {});\n",
              "      } catch (error) {\n",
              "        console.error('Error during call to suggestCharts:', error);\n",
              "      }\n",
              "      quickchartButtonEl.classList.remove('colab-df-spinner');\n",
              "      quickchartButtonEl.classList.add('colab-df-quickchart-complete');\n",
              "    }\n",
              "    (() => {\n",
              "      let quickchartButtonEl =\n",
              "        document.querySelector('#df-a418942b-0132-4768-98c0-7ec01b7eec4c button');\n",
              "      quickchartButtonEl.style.display =\n",
              "        google.colab.kernel.accessAllowed ? 'block' : 'none';\n",
              "    })();\n",
              "  </script>\n",
              "</div>\n",
              "\n",
              "  <div id=\"id_53346b46-320b-4037-9a29-b66e98241c66\">\n",
              "    <style>\n",
              "      .colab-df-generate {\n",
              "        background-color: #E8F0FE;\n",
              "        border: none;\n",
              "        border-radius: 50%;\n",
              "        cursor: pointer;\n",
              "        display: none;\n",
              "        fill: #1967D2;\n",
              "        height: 32px;\n",
              "        padding: 0 0 0 0;\n",
              "        width: 32px;\n",
              "      }\n",
              "\n",
              "      .colab-df-generate:hover {\n",
              "        background-color: #E2EBFA;\n",
              "        box-shadow: 0px 1px 2px rgba(60, 64, 67, 0.3), 0px 1px 3px 1px rgba(60, 64, 67, 0.15);\n",
              "        fill: #174EA6;\n",
              "      }\n",
              "\n",
              "      [theme=dark] .colab-df-generate {\n",
              "        background-color: #3B4455;\n",
              "        fill: #D2E3FC;\n",
              "      }\n",
              "\n",
              "      [theme=dark] .colab-df-generate:hover {\n",
              "        background-color: #434B5C;\n",
              "        box-shadow: 0px 1px 3px 1px rgba(0, 0, 0, 0.15);\n",
              "        filter: drop-shadow(0px 1px 2px rgba(0, 0, 0, 0.3));\n",
              "        fill: #FFFFFF;\n",
              "      }\n",
              "    </style>\n",
              "    <button class=\"colab-df-generate\" onclick=\"generateWithVariable('movies_df')\"\n",
              "            title=\"Generate code using this dataframe.\"\n",
              "            style=\"display:none;\">\n",
              "\n",
              "  <svg xmlns=\"http://www.w3.org/2000/svg\" height=\"24px\"viewBox=\"0 0 24 24\"\n",
              "       width=\"24px\">\n",
              "    <path d=\"M7,19H8.4L18.45,9,17,7.55,7,17.6ZM5,21V16.75L18.45,3.32a2,2,0,0,1,2.83,0l1.4,1.43a1.91,1.91,0,0,1,.58,1.4,1.91,1.91,0,0,1-.58,1.4L9.25,21ZM18.45,9,17,7.55Zm-12,3A5.31,5.31,0,0,0,4.9,8.1,5.31,5.31,0,0,0,1,6.5,5.31,5.31,0,0,0,4.9,4.9,5.31,5.31,0,0,0,6.5,1,5.31,5.31,0,0,0,8.1,4.9,5.31,5.31,0,0,0,12,6.5,5.46,5.46,0,0,0,6.5,12Z\"/>\n",
              "  </svg>\n",
              "    </button>\n",
              "    <script>\n",
              "      (() => {\n",
              "      const buttonEl =\n",
              "        document.querySelector('#id_53346b46-320b-4037-9a29-b66e98241c66 button.colab-df-generate');\n",
              "      buttonEl.style.display =\n",
              "        google.colab.kernel.accessAllowed ? 'block' : 'none';\n",
              "\n",
              "      buttonEl.onclick = () => {\n",
              "        google.colab.notebook.generateWithVariable('movies_df');\n",
              "      }\n",
              "      })();\n",
              "    </script>\n",
              "  </div>\n",
              "\n",
              "    </div>\n",
              "  </div>\n"
            ]
          },
          "metadata": {},
          "execution_count": 15
        }
      ]
    },
    {
      "cell_type": "code",
      "source": [
        "movies_df.info()"
      ],
      "metadata": {
        "colab": {
          "base_uri": "https://localhost:8080/"
        },
        "id": "Dugs5cx-JJJY",
        "outputId": "a5558a69-5508-488f-fed6-7ff43fa5282b"
      },
      "execution_count": null,
      "outputs": [
        {
          "output_type": "stream",
          "name": "stdout",
          "text": [
            "<class 'pandas.core.frame.DataFrame'>\n",
            "RangeIndex: 100 entries, 0 to 99\n",
            "Data columns (total 9 columns):\n",
            " #   Column                Non-Null Count  Dtype \n",
            "---  ------                --------------  ----- \n",
            " 0   Movie Title           100 non-null    object\n",
            " 1   Movie Link            100 non-null    object\n",
            " 2   Release Year          100 non-null    object\n",
            " 3   Genre                 100 non-null    object\n",
            " 4   IMDB Rating           99 non-null     object\n",
            " 5   Runtime               100 non-null    object\n",
            " 6   Age Rating            58 non-null     object\n",
            " 7   Production Countries  100 non-null    object\n",
            " 8   Streaming Service     83 non-null     object\n",
            "dtypes: object(9)\n",
            "memory usage: 7.2+ KB\n"
          ]
        }
      ]
    },
    {
      "cell_type": "markdown",
      "source": [
        "## **Scraping TV  Show Data**"
      ],
      "metadata": {
        "id": "LYQ5acWzJRZr"
      }
    },
    {
      "cell_type": "code",
      "source": [
        "#importing the concurrency\n",
        "from concurrent.futures import ThreadPoolExecutor"
      ],
      "metadata": {
        "id": "-mf6ByOK8bbU"
      },
      "execution_count": null,
      "outputs": []
    },
    {
      "cell_type": "code",
      "source": [
        "# Specifying the URL from which tv show related data will be fetched\n",
        "tv_url='https://www.justwatch.com/in/tv-shows?release_year_from=2000'\n",
        "# Sending an HTTP GET request to the URL\n",
        "page=requests.get(tv_url)\n",
        "# Parsing the HTML content using BeautifulSoup with the 'html.parser'\n",
        "soup=BeautifulSoup(page.text,'html.parser')\n",
        "# Printing the prettified HTML content\n",
        "# print(soup.prettify())"
      ],
      "metadata": {
        "id": "Xic8FWfwI6AT"
      },
      "execution_count": null,
      "outputs": []
    },
    {
      "cell_type": "code",
      "source": [
        "tv_info = soup.find_all('div', class_='title-list-grid__item')"
      ],
      "metadata": {
        "id": "Q7j9Xxx2hC1l"
      },
      "execution_count": null,
      "outputs": []
    },
    {
      "cell_type": "markdown",
      "source": [
        "## **Fetching Tv shows Url details**"
      ],
      "metadata": {
        "id": "ev-VUSNvJ-fJ"
      }
    },
    {
      "cell_type": "code",
      "source": [
        "tv_url_list = []\n",
        "for url in tv_info:\n",
        "  get_link = url.find('a')['href']\n",
        "  tv_link = 'https://www.justwatch.com' + get_link\n",
        "  tv_url_list.append(tv_link)\n",
        "\n",
        "len(tv_url_list)"
      ],
      "metadata": {
        "id": "eMlwT4I-8gGh",
        "colab": {
          "base_uri": "https://localhost:8080/"
        },
        "outputId": "676b0efe-375e-4abc-8822-ed1c9e1676b4"
      },
      "execution_count": null,
      "outputs": [
        {
          "output_type": "execute_result",
          "data": {
            "text/plain": [
              "100"
            ]
          },
          "metadata": {},
          "execution_count": 20
        }
      ]
    },
    {
      "cell_type": "markdown",
      "source": [
        "## **Iterating each url to scrape all details in concurrency**"
      ],
      "metadata": {
        "id": "93jufA0Pl33k"
      }
    },
    {
      "cell_type": "code",
      "source": [
        "show_title_list = []\n",
        "show_year_list = []\n",
        "show_genre_list = []\n",
        "show_imdb_rating_list = []\n",
        "show_age_rating_list = []\n",
        "show_production_country_list = []\n",
        "show_streaming_list = []\n",
        "show_runtime_list = []"
      ],
      "metadata": {
        "id": "qDy-bvaN1-H0"
      },
      "execution_count": null,
      "outputs": []
    },
    {
      "cell_type": "code",
      "source": [
        "%%time\n",
        "def scrape_show_details(tv_url):\n",
        "  try:\n",
        "    # print(f\"Scraping tv_show url {tv_url} \")\n",
        "    response = requests.get(tv_url)\n",
        "    if response.status_code == 200:\n",
        "      tv_soup = BeautifulSoup(response.text, 'html.parser')\n",
        "\n",
        "      #Extract Tv-show title\n",
        "      show_title_tag = tv_soup.find('div', class_='title-block')\n",
        "      if show_title_tag:\n",
        "        show_title = show_title_tag.find('h1').text.strip()\n",
        "\n",
        "      else:\n",
        "        show_title = None\n",
        "\n",
        "      #Extract release year\n",
        "      show_year_tag = tv_soup.find('span', class_='text-muted')\n",
        "      if show_year_tag:\n",
        "        show_year = re.sub(r\"\\(|\\)\", \"\", show_year_tag.text.strip())\n",
        "\n",
        "      else:\n",
        "        show_year = None\n",
        "\n",
        "      #Extract Show genre\n",
        "      show_genre_tag = tv_soup.find('h3', text = \"Genres\")\n",
        "      if show_genre_tag:\n",
        "        show_genre = show_genre_tag.find_next_sibling('div', class_='detail-infos__value').text.strip()\n",
        "\n",
        "      else:\n",
        "        show_genre = None\n",
        "\n",
        "      #Extract IMDB ratings\n",
        "      show_imdb_rating_tag = tv_soup.find('img', alt='IMDB')\n",
        "      if show_imdb_rating_tag:\n",
        "        show_imdb_rating = show_imdb_rating_tag.find_next_sibling('span').text.strip()\n",
        "\n",
        "      else:\n",
        "        show_imdb_rating = None\n",
        "\n",
        "      #Extract Age rating\n",
        "      show_age_rating_tag = tv_soup.find('h3', text='Age rating')\n",
        "      if show_age_rating_tag:\n",
        "        show_age_rating = show_age_rating_tag.find_next_sibling('div', class_='detail-infos__value').text.strip()\n",
        "\n",
        "      else:\n",
        "        show_age_rating =  None\n",
        "\n",
        "      #Extract show_production country\n",
        "      show_country_tag = tv_soup.find('h3', text=' Production country ')\n",
        "      if show_country_tag:\n",
        "        show_country = show_country_tag.find_next_sibling('div', class_='detail-infos__value').text.strip()\n",
        "\n",
        "      else:\n",
        "        show_country = None\n",
        "\n",
        "      #Extract streaming service\n",
        "      show_stream_tag = tv_soup.find('picture', class_='picture-wrapper')\n",
        "      if show_stream_tag:\n",
        "        show_stream = show_stream_tag.find('img')['alt']\n",
        "\n",
        "      else:\n",
        "        show_stream = None\n",
        "\n",
        "      #Extract runtime\n",
        "      show_runtime_tag = tv_soup.find('h3', text='Runtime')\n",
        "      if show_runtime_tag:\n",
        "        show_runtime = show_runtime_tag.find_next_sibling('div', class_='detail-infos__value').text.strip()\n",
        "\n",
        "      else:\n",
        "        show_runtime = None\n",
        "\n",
        "      return (show_title, show_year, show_genre, show_imdb_rating, show_age_rating, show_country, show_stream, show_runtime)\n",
        "\n",
        "    else:\n",
        "      print(f'Scraping Fail for tv-show url {tv_url}')\n",
        "      return None\n",
        "  except Exception as e:\n",
        "      print(f\"Exception occurred for {tv_url}: {e}\")\n",
        "      return None\n",
        "\n",
        "with ThreadPoolExecutor(max_workers=10) as executor:\n",
        "  results = executor.map(scrape_show_details, tv_url_list)\n",
        "  # Process the results\n",
        "  for result in results:\n",
        "       if result:\n",
        "\n",
        "           show_title_list.append(result[0])\n",
        "\n",
        "           show_year_list.append(result[1])\n",
        "           show_genre_list.append(result[2])\n",
        "           #'NoneType' object is not subscriptable\n",
        "           if result[3] is not None:\n",
        "            show_imdb_rating_list.append(result[3][0:3])\n",
        "           else:\n",
        "            show_imdb_rating_list.append(None)\n",
        "\n",
        "           show_age_rating_list.append(result[4])\n",
        "           show_production_country_list.append(result[5])\n",
        "           show_streaming_list.append(result[6])\n",
        "           show_runtime_list.append(result[7])"
      ],
      "metadata": {
        "colab": {
          "base_uri": "https://localhost:8080/"
        },
        "id": "jaD1ZWUVnWUZ",
        "outputId": "ef0afff3-8357-4329-aab7-021f2fc16650"
      },
      "execution_count": null,
      "outputs": [
        {
          "output_type": "stream",
          "name": "stderr",
          "text": [
            "<timed exec>:25: DeprecationWarning: The 'text' argument to find()-type methods is deprecated. Use 'string' instead.\n",
            "<timed exec>:41: DeprecationWarning: The 'text' argument to find()-type methods is deprecated. Use 'string' instead.\n",
            "<timed exec>:49: DeprecationWarning: The 'text' argument to find()-type methods is deprecated. Use 'string' instead.\n",
            "<timed exec>:65: DeprecationWarning: The 'text' argument to find()-type methods is deprecated. Use 'string' instead.\n"
          ]
        },
        {
          "output_type": "stream",
          "name": "stdout",
          "text": [
            "CPU times: user 22.6 s, sys: 567 ms, total: 23.2 s\n",
            "Wall time: 20.1 s\n"
          ]
        }
      ]
    },
    {
      "cell_type": "markdown",
      "source": [
        "## **Fetching Tv Show Title details**"
      ],
      "metadata": {
        "id": "1vZLzmqcKDPX"
      }
    },
    {
      "cell_type": "code",
      "source": [
        "len(show_title_list)"
      ],
      "metadata": {
        "colab": {
          "base_uri": "https://localhost:8080/"
        },
        "id": "JqVTD2VBO_B1",
        "outputId": "f68cee20-fd90-40f9-cb0e-b795412f8d7d"
      },
      "execution_count": null,
      "outputs": [
        {
          "output_type": "execute_result",
          "data": {
            "text/plain": [
              "100"
            ]
          },
          "metadata": {},
          "execution_count": 23
        }
      ]
    },
    {
      "cell_type": "markdown",
      "source": [
        "## **Fetching Release Year**"
      ],
      "metadata": {
        "id": "mEIt9j6RKa9B"
      }
    },
    {
      "cell_type": "code",
      "source": [
        "# Write Your Code here\n",
        "len(show_year_list)"
      ],
      "metadata": {
        "id": "r72fyiF8JozW",
        "colab": {
          "base_uri": "https://localhost:8080/"
        },
        "outputId": "5a460373-5183-4a0f-85c6-8236b16dcd05"
      },
      "execution_count": null,
      "outputs": [
        {
          "output_type": "execute_result",
          "data": {
            "text/plain": [
              "100"
            ]
          },
          "metadata": {},
          "execution_count": 24
        }
      ]
    },
    {
      "cell_type": "markdown",
      "source": [
        "## **Fetching TV Show Genre Details**"
      ],
      "metadata": {
        "id": "P96pGO9kRCLv"
      }
    },
    {
      "cell_type": "code",
      "source": [
        "# Write Your Code here\n",
        "len(show_genre_list)"
      ],
      "metadata": {
        "id": "Jay8a9xgT43-",
        "colab": {
          "base_uri": "https://localhost:8080/"
        },
        "outputId": "d5629c37-fdb6-4d70-b44b-793ec8e4ee45"
      },
      "execution_count": null,
      "outputs": [
        {
          "output_type": "execute_result",
          "data": {
            "text/plain": [
              "100"
            ]
          },
          "metadata": {},
          "execution_count": 25
        }
      ]
    },
    {
      "cell_type": "markdown",
      "source": [
        "## **Fetching IMDB Rating Details**"
      ],
      "metadata": {
        "id": "hk3eSdDAXQv8"
      }
    },
    {
      "cell_type": "code",
      "source": [
        "# Write Your Code here\n",
        "show_imdb_rating_list"
      ],
      "metadata": {
        "id": "EmltFOQEXM2W",
        "colab": {
          "base_uri": "https://localhost:8080/"
        },
        "outputId": "8ab7c5a1-3026-4fe5-d97c-0724f87752b8"
      },
      "execution_count": null,
      "outputs": [
        {
          "output_type": "execute_result",
          "data": {
            "text/plain": [
              "['6.2',\n",
              " '8.9',\n",
              " '8.5',\n",
              " '8.1',\n",
              " '9.2',\n",
              " '8.9',\n",
              " '8.4',\n",
              " '7.0',\n",
              " '3.7',\n",
              " '8.7',\n",
              " '9.2',\n",
              " '8.6',\n",
              " '6.3',\n",
              " '6.9',\n",
              " '8.4',\n",
              " '7.9',\n",
              " '8.8',\n",
              " '7.0',\n",
              " '7.8',\n",
              " '7.1',\n",
              " '8.6',\n",
              " '8.2',\n",
              " '8.9',\n",
              " '7.0',\n",
              " '7.3',\n",
              " '8.1',\n",
              " '7.9',\n",
              " '8.6',\n",
              " '8.0',\n",
              " None,\n",
              " '7.8',\n",
              " '7.9',\n",
              " '8.2',\n",
              " '7.4',\n",
              " '7.2',\n",
              " '8.8',\n",
              " '9.3',\n",
              " '3.4',\n",
              " '8.7',\n",
              " '8.5',\n",
              " '8.7',\n",
              " '9.5',\n",
              " '5.9',\n",
              " '8.0',\n",
              " '8.9',\n",
              " '9.1',\n",
              " '7.2',\n",
              " '8.7',\n",
              " '8.1',\n",
              " '8.5',\n",
              " '6.5',\n",
              " '8.3',\n",
              " '8.5',\n",
              " '8.4',\n",
              " '7.1',\n",
              " '6.8',\n",
              " '8.1',\n",
              " '7.5',\n",
              " '7.9',\n",
              " '8.7',\n",
              " '7.5',\n",
              " '8.0',\n",
              " '9.2',\n",
              " '8.8',\n",
              " '8.7',\n",
              " '8.5',\n",
              " '6.3',\n",
              " '8.7',\n",
              " '5.1',\n",
              " '8.7',\n",
              " None,\n",
              " '8.7',\n",
              " '8.4',\n",
              " '9.0',\n",
              " '8.0',\n",
              " '8.4',\n",
              " '8.1',\n",
              " '7.2',\n",
              " None,\n",
              " '7.2',\n",
              " '8.3',\n",
              " '7.2',\n",
              " '8.2',\n",
              " '6.4',\n",
              " '8.4',\n",
              " '8.3',\n",
              " '7.6',\n",
              " '6.5',\n",
              " '8.0',\n",
              " None,\n",
              " '7.6',\n",
              " '8.0',\n",
              " '7.6',\n",
              " '7.8',\n",
              " '7.3',\n",
              " '7.4',\n",
              " '3.7',\n",
              " '8.3',\n",
              " '8.1',\n",
              " '8.5']"
            ]
          },
          "metadata": {},
          "execution_count": 26
        }
      ]
    },
    {
      "cell_type": "markdown",
      "source": [
        "## **Fetching Age Rating Details**"
      ],
      "metadata": {
        "id": "XZ9nJhmiZB_W"
      }
    },
    {
      "cell_type": "code",
      "source": [
        "# Write Your Code here\n",
        "len(show_age_rating_list)"
      ],
      "metadata": {
        "id": "wR9Xo8piZA7p",
        "colab": {
          "base_uri": "https://localhost:8080/"
        },
        "outputId": "8f74377e-c4cf-45d9-f912-d3da2dc91112"
      },
      "execution_count": null,
      "outputs": [
        {
          "output_type": "execute_result",
          "data": {
            "text/plain": [
              "100"
            ]
          },
          "metadata": {},
          "execution_count": 27
        }
      ]
    },
    {
      "cell_type": "markdown",
      "source": [
        "## **Fetching Production Country details**"
      ],
      "metadata": {
        "id": "ii49LH4tdNoN"
      }
    },
    {
      "cell_type": "code",
      "source": [
        "# Write Your Code here\n",
        "len(show_production_country_list)"
      ],
      "metadata": {
        "id": "xihOeyN8XXDt",
        "colab": {
          "base_uri": "https://localhost:8080/"
        },
        "outputId": "108a6305-6c7e-4bdf-b372-ee4febaa7739"
      },
      "execution_count": null,
      "outputs": [
        {
          "output_type": "execute_result",
          "data": {
            "text/plain": [
              "100"
            ]
          },
          "metadata": {},
          "execution_count": 28
        }
      ]
    },
    {
      "cell_type": "markdown",
      "source": [
        "## **Fetching Streaming Service details**"
      ],
      "metadata": {
        "id": "mHZwwgiKdlQm"
      }
    },
    {
      "cell_type": "code",
      "source": [
        "# Write Your Code here\n",
        "len(show_streaming_list)"
      ],
      "metadata": {
        "id": "_MBl6Vqadrl9",
        "colab": {
          "base_uri": "https://localhost:8080/"
        },
        "outputId": "46d05ada-aca7-49a8-cefb-b96df857187d"
      },
      "execution_count": null,
      "outputs": [
        {
          "output_type": "execute_result",
          "data": {
            "text/plain": [
              "100"
            ]
          },
          "metadata": {},
          "execution_count": 29
        }
      ]
    },
    {
      "cell_type": "markdown",
      "source": [
        "## **Fetching Duration Details**"
      ],
      "metadata": {
        "id": "uUOtDJv9gM4a"
      }
    },
    {
      "cell_type": "code",
      "source": [
        "# Write Your Code here\n",
        "len(show_runtime_list)"
      ],
      "metadata": {
        "id": "o4x4YY6AfoL1",
        "colab": {
          "base_uri": "https://localhost:8080/"
        },
        "outputId": "52888eda-40ce-45b3-ea48-1423e16b0441"
      },
      "execution_count": null,
      "outputs": [
        {
          "output_type": "execute_result",
          "data": {
            "text/plain": [
              "100"
            ]
          },
          "metadata": {},
          "execution_count": 30
        }
      ]
    },
    {
      "cell_type": "markdown",
      "source": [
        "## **Creating TV Show DataFrame**"
      ],
      "metadata": {
        "id": "nD4QVPT-nfVR"
      }
    },
    {
      "cell_type": "code",
      "source": [
        "# Write Your Code here\n",
        "tv_show_df = pd.DataFrame()\n",
        "tv_show_df['Show Title'] = show_title_list\n",
        "tv_show_df['TV Show Link'] = tv_url_list\n",
        "tv_show_df['Release Year'] = show_year_list\n",
        "tv_show_df['Show Genre'] = show_genre_list\n",
        "tv_show_df['IMDB Rating'] = show_imdb_rating_list\n",
        "tv_show_df['Age Rating'] = show_age_rating_list\n",
        "tv_show_df['Production Country'] = show_production_country_list\n",
        "tv_show_df['Streaming Service'] = show_streaming_list\n",
        "tv_show_df['Runtime'] = show_runtime_list\n",
        "\n",
        "tv_show_df"
      ],
      "metadata": {
        "id": "W3Lnlb-xip2U",
        "colab": {
          "base_uri": "https://localhost:8080/",
          "height": 614
        },
        "outputId": "5bae45a6-f54d-4f70-d5ca-e3d456c69a32"
      },
      "execution_count": null,
      "outputs": [
        {
          "output_type": "execute_result",
          "data": {
            "text/plain": [
              "               Show Title                                       TV Show Link  \\\n",
              "0     Indian Police Force  https://www.justwatch.com/in/tv-show/indian-po...   \n",
              "1          True Detective  https://www.justwatch.com/in/tv-show/true-dete...   \n",
              "2                Mirzapur      https://www.justwatch.com/in/tv-show/mirzapur   \n",
              "3                 Reacher  https://www.justwatch.com/in/tv-show/jack-reacher   \n",
              "4         Game of Thrones  https://www.justwatch.com/in/tv-show/game-of-t...   \n",
              "..                    ...                                                ...   \n",
              "95             The Twelve    https://www.justwatch.com/in/tv-show/the-twelve   \n",
              "96             Paurashpur    https://www.justwatch.com/in/tv-show/paurashpur   \n",
              "97  How I Met Your Mother  https://www.justwatch.com/in/tv-show/how-i-met...   \n",
              "98              Wednesday     https://www.justwatch.com/in/tv-show/wednesday   \n",
              "99              Shameless     https://www.justwatch.com/in/tv-show/shameless   \n",
              "\n",
              "   Release Year                                         Show Genre  \\\n",
              "0          2024                          Crime, Action & Adventure   \n",
              "1          2014                   Drama, Crime, Mystery & Thriller   \n",
              "2          2018  Action & Adventure, Crime, Drama, Mystery & Th...   \n",
              "3          2022  Action & Adventure, Crime, Drama, Mystery & Th...   \n",
              "4          2011  Drama, Action & Adventure, Science-Fiction, Fa...   \n",
              "..          ...                                                ...   \n",
              "95         2019                          Mystery & Thriller, Drama   \n",
              "96         2020                                              Drama   \n",
              "97         2005                             Comedy, Romance, Drama   \n",
              "98         2022  Science-Fiction, Fantasy, Comedy, Crime, Kids ...   \n",
              "99         2011                                      Drama, Comedy   \n",
              "\n",
              "   IMDB Rating Age Rating Production Country   Streaming Service  Runtime  \n",
              "0          6.2          A              India  Amazon Prime Video    38min  \n",
              "1          8.9          U      United States          Jio Cinema  1h 0min  \n",
              "2          8.5       None              India  Amazon Prime Video    50min  \n",
              "3          8.1          A      United States  Amazon Prime Video    48min  \n",
              "4          9.2          U      United States          Jio Cinema    58min  \n",
              "..         ...        ...                ...                 ...      ...  \n",
              "95         7.4       None            Belgium             Netflix    54min  \n",
              "96         3.7          A              India          Alt Balaji    25min  \n",
              "97         8.3          U      United States             Hotstar    24min  \n",
              "98         8.1       None      United States             Netflix    49min  \n",
              "99         8.5          U      United States             Netflix    54min  \n",
              "\n",
              "[100 rows x 9 columns]"
            ],
            "text/html": [
              "\n",
              "  <div id=\"df-b91887cd-c465-408b-8746-6f9c95c28f76\" class=\"colab-df-container\">\n",
              "    <div>\n",
              "<style scoped>\n",
              "    .dataframe tbody tr th:only-of-type {\n",
              "        vertical-align: middle;\n",
              "    }\n",
              "\n",
              "    .dataframe tbody tr th {\n",
              "        vertical-align: top;\n",
              "    }\n",
              "\n",
              "    .dataframe thead th {\n",
              "        text-align: right;\n",
              "    }\n",
              "</style>\n",
              "<table border=\"1\" class=\"dataframe\">\n",
              "  <thead>\n",
              "    <tr style=\"text-align: right;\">\n",
              "      <th></th>\n",
              "      <th>Show Title</th>\n",
              "      <th>TV Show Link</th>\n",
              "      <th>Release Year</th>\n",
              "      <th>Show Genre</th>\n",
              "      <th>IMDB Rating</th>\n",
              "      <th>Age Rating</th>\n",
              "      <th>Production Country</th>\n",
              "      <th>Streaming Service</th>\n",
              "      <th>Runtime</th>\n",
              "    </tr>\n",
              "  </thead>\n",
              "  <tbody>\n",
              "    <tr>\n",
              "      <th>0</th>\n",
              "      <td>Indian Police Force</td>\n",
              "      <td>https://www.justwatch.com/in/tv-show/indian-po...</td>\n",
              "      <td>2024</td>\n",
              "      <td>Crime, Action &amp; Adventure</td>\n",
              "      <td>6.2</td>\n",
              "      <td>A</td>\n",
              "      <td>India</td>\n",
              "      <td>Amazon Prime Video</td>\n",
              "      <td>38min</td>\n",
              "    </tr>\n",
              "    <tr>\n",
              "      <th>1</th>\n",
              "      <td>True Detective</td>\n",
              "      <td>https://www.justwatch.com/in/tv-show/true-dete...</td>\n",
              "      <td>2014</td>\n",
              "      <td>Drama, Crime, Mystery &amp; Thriller</td>\n",
              "      <td>8.9</td>\n",
              "      <td>U</td>\n",
              "      <td>United States</td>\n",
              "      <td>Jio Cinema</td>\n",
              "      <td>1h 0min</td>\n",
              "    </tr>\n",
              "    <tr>\n",
              "      <th>2</th>\n",
              "      <td>Mirzapur</td>\n",
              "      <td>https://www.justwatch.com/in/tv-show/mirzapur</td>\n",
              "      <td>2018</td>\n",
              "      <td>Action &amp; Adventure, Crime, Drama, Mystery &amp; Th...</td>\n",
              "      <td>8.5</td>\n",
              "      <td>None</td>\n",
              "      <td>India</td>\n",
              "      <td>Amazon Prime Video</td>\n",
              "      <td>50min</td>\n",
              "    </tr>\n",
              "    <tr>\n",
              "      <th>3</th>\n",
              "      <td>Reacher</td>\n",
              "      <td>https://www.justwatch.com/in/tv-show/jack-reacher</td>\n",
              "      <td>2022</td>\n",
              "      <td>Action &amp; Adventure, Crime, Drama, Mystery &amp; Th...</td>\n",
              "      <td>8.1</td>\n",
              "      <td>A</td>\n",
              "      <td>United States</td>\n",
              "      <td>Amazon Prime Video</td>\n",
              "      <td>48min</td>\n",
              "    </tr>\n",
              "    <tr>\n",
              "      <th>4</th>\n",
              "      <td>Game of Thrones</td>\n",
              "      <td>https://www.justwatch.com/in/tv-show/game-of-t...</td>\n",
              "      <td>2011</td>\n",
              "      <td>Drama, Action &amp; Adventure, Science-Fiction, Fa...</td>\n",
              "      <td>9.2</td>\n",
              "      <td>U</td>\n",
              "      <td>United States</td>\n",
              "      <td>Jio Cinema</td>\n",
              "      <td>58min</td>\n",
              "    </tr>\n",
              "    <tr>\n",
              "      <th>...</th>\n",
              "      <td>...</td>\n",
              "      <td>...</td>\n",
              "      <td>...</td>\n",
              "      <td>...</td>\n",
              "      <td>...</td>\n",
              "      <td>...</td>\n",
              "      <td>...</td>\n",
              "      <td>...</td>\n",
              "      <td>...</td>\n",
              "    </tr>\n",
              "    <tr>\n",
              "      <th>95</th>\n",
              "      <td>The Twelve</td>\n",
              "      <td>https://www.justwatch.com/in/tv-show/the-twelve</td>\n",
              "      <td>2019</td>\n",
              "      <td>Mystery &amp; Thriller, Drama</td>\n",
              "      <td>7.4</td>\n",
              "      <td>None</td>\n",
              "      <td>Belgium</td>\n",
              "      <td>Netflix</td>\n",
              "      <td>54min</td>\n",
              "    </tr>\n",
              "    <tr>\n",
              "      <th>96</th>\n",
              "      <td>Paurashpur</td>\n",
              "      <td>https://www.justwatch.com/in/tv-show/paurashpur</td>\n",
              "      <td>2020</td>\n",
              "      <td>Drama</td>\n",
              "      <td>3.7</td>\n",
              "      <td>A</td>\n",
              "      <td>India</td>\n",
              "      <td>Alt Balaji</td>\n",
              "      <td>25min</td>\n",
              "    </tr>\n",
              "    <tr>\n",
              "      <th>97</th>\n",
              "      <td>How I Met Your Mother</td>\n",
              "      <td>https://www.justwatch.com/in/tv-show/how-i-met...</td>\n",
              "      <td>2005</td>\n",
              "      <td>Comedy, Romance, Drama</td>\n",
              "      <td>8.3</td>\n",
              "      <td>U</td>\n",
              "      <td>United States</td>\n",
              "      <td>Hotstar</td>\n",
              "      <td>24min</td>\n",
              "    </tr>\n",
              "    <tr>\n",
              "      <th>98</th>\n",
              "      <td>Wednesday</td>\n",
              "      <td>https://www.justwatch.com/in/tv-show/wednesday</td>\n",
              "      <td>2022</td>\n",
              "      <td>Science-Fiction, Fantasy, Comedy, Crime, Kids ...</td>\n",
              "      <td>8.1</td>\n",
              "      <td>None</td>\n",
              "      <td>United States</td>\n",
              "      <td>Netflix</td>\n",
              "      <td>49min</td>\n",
              "    </tr>\n",
              "    <tr>\n",
              "      <th>99</th>\n",
              "      <td>Shameless</td>\n",
              "      <td>https://www.justwatch.com/in/tv-show/shameless</td>\n",
              "      <td>2011</td>\n",
              "      <td>Drama, Comedy</td>\n",
              "      <td>8.5</td>\n",
              "      <td>U</td>\n",
              "      <td>United States</td>\n",
              "      <td>Netflix</td>\n",
              "      <td>54min</td>\n",
              "    </tr>\n",
              "  </tbody>\n",
              "</table>\n",
              "<p>100 rows × 9 columns</p>\n",
              "</div>\n",
              "    <div class=\"colab-df-buttons\">\n",
              "\n",
              "  <div class=\"colab-df-container\">\n",
              "    <button class=\"colab-df-convert\" onclick=\"convertToInteractive('df-b91887cd-c465-408b-8746-6f9c95c28f76')\"\n",
              "            title=\"Convert this dataframe to an interactive table.\"\n",
              "            style=\"display:none;\">\n",
              "\n",
              "  <svg xmlns=\"http://www.w3.org/2000/svg\" height=\"24px\" viewBox=\"0 -960 960 960\">\n",
              "    <path d=\"M120-120v-720h720v720H120Zm60-500h600v-160H180v160Zm220 220h160v-160H400v160Zm0 220h160v-160H400v160ZM180-400h160v-160H180v160Zm440 0h160v-160H620v160ZM180-180h160v-160H180v160Zm440 0h160v-160H620v160Z\"/>\n",
              "  </svg>\n",
              "    </button>\n",
              "\n",
              "  <style>\n",
              "    .colab-df-container {\n",
              "      display:flex;\n",
              "      gap: 12px;\n",
              "    }\n",
              "\n",
              "    .colab-df-convert {\n",
              "      background-color: #E8F0FE;\n",
              "      border: none;\n",
              "      border-radius: 50%;\n",
              "      cursor: pointer;\n",
              "      display: none;\n",
              "      fill: #1967D2;\n",
              "      height: 32px;\n",
              "      padding: 0 0 0 0;\n",
              "      width: 32px;\n",
              "    }\n",
              "\n",
              "    .colab-df-convert:hover {\n",
              "      background-color: #E2EBFA;\n",
              "      box-shadow: 0px 1px 2px rgba(60, 64, 67, 0.3), 0px 1px 3px 1px rgba(60, 64, 67, 0.15);\n",
              "      fill: #174EA6;\n",
              "    }\n",
              "\n",
              "    .colab-df-buttons div {\n",
              "      margin-bottom: 4px;\n",
              "    }\n",
              "\n",
              "    [theme=dark] .colab-df-convert {\n",
              "      background-color: #3B4455;\n",
              "      fill: #D2E3FC;\n",
              "    }\n",
              "\n",
              "    [theme=dark] .colab-df-convert:hover {\n",
              "      background-color: #434B5C;\n",
              "      box-shadow: 0px 1px 3px 1px rgba(0, 0, 0, 0.15);\n",
              "      filter: drop-shadow(0px 1px 2px rgba(0, 0, 0, 0.3));\n",
              "      fill: #FFFFFF;\n",
              "    }\n",
              "  </style>\n",
              "\n",
              "    <script>\n",
              "      const buttonEl =\n",
              "        document.querySelector('#df-b91887cd-c465-408b-8746-6f9c95c28f76 button.colab-df-convert');\n",
              "      buttonEl.style.display =\n",
              "        google.colab.kernel.accessAllowed ? 'block' : 'none';\n",
              "\n",
              "      async function convertToInteractive(key) {\n",
              "        const element = document.querySelector('#df-b91887cd-c465-408b-8746-6f9c95c28f76');\n",
              "        const dataTable =\n",
              "          await google.colab.kernel.invokeFunction('convertToInteractive',\n",
              "                                                    [key], {});\n",
              "        if (!dataTable) return;\n",
              "\n",
              "        const docLinkHtml = 'Like what you see? Visit the ' +\n",
              "          '<a target=\"_blank\" href=https://colab.research.google.com/notebooks/data_table.ipynb>data table notebook</a>'\n",
              "          + ' to learn more about interactive tables.';\n",
              "        element.innerHTML = '';\n",
              "        dataTable['output_type'] = 'display_data';\n",
              "        await google.colab.output.renderOutput(dataTable, element);\n",
              "        const docLink = document.createElement('div');\n",
              "        docLink.innerHTML = docLinkHtml;\n",
              "        element.appendChild(docLink);\n",
              "      }\n",
              "    </script>\n",
              "  </div>\n",
              "\n",
              "\n",
              "<div id=\"df-df1b35e9-3603-4e83-bf9c-6021e799a3b2\">\n",
              "  <button class=\"colab-df-quickchart\" onclick=\"quickchart('df-df1b35e9-3603-4e83-bf9c-6021e799a3b2')\"\n",
              "            title=\"Suggest charts\"\n",
              "            style=\"display:none;\">\n",
              "\n",
              "<svg xmlns=\"http://www.w3.org/2000/svg\" height=\"24px\"viewBox=\"0 0 24 24\"\n",
              "     width=\"24px\">\n",
              "    <g>\n",
              "        <path d=\"M19 3H5c-1.1 0-2 .9-2 2v14c0 1.1.9 2 2 2h14c1.1 0 2-.9 2-2V5c0-1.1-.9-2-2-2zM9 17H7v-7h2v7zm4 0h-2V7h2v10zm4 0h-2v-4h2v4z\"/>\n",
              "    </g>\n",
              "</svg>\n",
              "  </button>\n",
              "\n",
              "<style>\n",
              "  .colab-df-quickchart {\n",
              "      --bg-color: #E8F0FE;\n",
              "      --fill-color: #1967D2;\n",
              "      --hover-bg-color: #E2EBFA;\n",
              "      --hover-fill-color: #174EA6;\n",
              "      --disabled-fill-color: #AAA;\n",
              "      --disabled-bg-color: #DDD;\n",
              "  }\n",
              "\n",
              "  [theme=dark] .colab-df-quickchart {\n",
              "      --bg-color: #3B4455;\n",
              "      --fill-color: #D2E3FC;\n",
              "      --hover-bg-color: #434B5C;\n",
              "      --hover-fill-color: #FFFFFF;\n",
              "      --disabled-bg-color: #3B4455;\n",
              "      --disabled-fill-color: #666;\n",
              "  }\n",
              "\n",
              "  .colab-df-quickchart {\n",
              "    background-color: var(--bg-color);\n",
              "    border: none;\n",
              "    border-radius: 50%;\n",
              "    cursor: pointer;\n",
              "    display: none;\n",
              "    fill: var(--fill-color);\n",
              "    height: 32px;\n",
              "    padding: 0;\n",
              "    width: 32px;\n",
              "  }\n",
              "\n",
              "  .colab-df-quickchart:hover {\n",
              "    background-color: var(--hover-bg-color);\n",
              "    box-shadow: 0 1px 2px rgba(60, 64, 67, 0.3), 0 1px 3px 1px rgba(60, 64, 67, 0.15);\n",
              "    fill: var(--button-hover-fill-color);\n",
              "  }\n",
              "\n",
              "  .colab-df-quickchart-complete:disabled,\n",
              "  .colab-df-quickchart-complete:disabled:hover {\n",
              "    background-color: var(--disabled-bg-color);\n",
              "    fill: var(--disabled-fill-color);\n",
              "    box-shadow: none;\n",
              "  }\n",
              "\n",
              "  .colab-df-spinner {\n",
              "    border: 2px solid var(--fill-color);\n",
              "    border-color: transparent;\n",
              "    border-bottom-color: var(--fill-color);\n",
              "    animation:\n",
              "      spin 1s steps(1) infinite;\n",
              "  }\n",
              "\n",
              "  @keyframes spin {\n",
              "    0% {\n",
              "      border-color: transparent;\n",
              "      border-bottom-color: var(--fill-color);\n",
              "      border-left-color: var(--fill-color);\n",
              "    }\n",
              "    20% {\n",
              "      border-color: transparent;\n",
              "      border-left-color: var(--fill-color);\n",
              "      border-top-color: var(--fill-color);\n",
              "    }\n",
              "    30% {\n",
              "      border-color: transparent;\n",
              "      border-left-color: var(--fill-color);\n",
              "      border-top-color: var(--fill-color);\n",
              "      border-right-color: var(--fill-color);\n",
              "    }\n",
              "    40% {\n",
              "      border-color: transparent;\n",
              "      border-right-color: var(--fill-color);\n",
              "      border-top-color: var(--fill-color);\n",
              "    }\n",
              "    60% {\n",
              "      border-color: transparent;\n",
              "      border-right-color: var(--fill-color);\n",
              "    }\n",
              "    80% {\n",
              "      border-color: transparent;\n",
              "      border-right-color: var(--fill-color);\n",
              "      border-bottom-color: var(--fill-color);\n",
              "    }\n",
              "    90% {\n",
              "      border-color: transparent;\n",
              "      border-bottom-color: var(--fill-color);\n",
              "    }\n",
              "  }\n",
              "</style>\n",
              "\n",
              "  <script>\n",
              "    async function quickchart(key) {\n",
              "      const quickchartButtonEl =\n",
              "        document.querySelector('#' + key + ' button');\n",
              "      quickchartButtonEl.disabled = true;  // To prevent multiple clicks.\n",
              "      quickchartButtonEl.classList.add('colab-df-spinner');\n",
              "      try {\n",
              "        const charts = await google.colab.kernel.invokeFunction(\n",
              "            'suggestCharts', [key], {});\n",
              "      } catch (error) {\n",
              "        console.error('Error during call to suggestCharts:', error);\n",
              "      }\n",
              "      quickchartButtonEl.classList.remove('colab-df-spinner');\n",
              "      quickchartButtonEl.classList.add('colab-df-quickchart-complete');\n",
              "    }\n",
              "    (() => {\n",
              "      let quickchartButtonEl =\n",
              "        document.querySelector('#df-df1b35e9-3603-4e83-bf9c-6021e799a3b2 button');\n",
              "      quickchartButtonEl.style.display =\n",
              "        google.colab.kernel.accessAllowed ? 'block' : 'none';\n",
              "    })();\n",
              "  </script>\n",
              "</div>\n",
              "\n",
              "  <div id=\"id_b45495bc-ecd6-46aa-a771-aaf1d4de44aa\">\n",
              "    <style>\n",
              "      .colab-df-generate {\n",
              "        background-color: #E8F0FE;\n",
              "        border: none;\n",
              "        border-radius: 50%;\n",
              "        cursor: pointer;\n",
              "        display: none;\n",
              "        fill: #1967D2;\n",
              "        height: 32px;\n",
              "        padding: 0 0 0 0;\n",
              "        width: 32px;\n",
              "      }\n",
              "\n",
              "      .colab-df-generate:hover {\n",
              "        background-color: #E2EBFA;\n",
              "        box-shadow: 0px 1px 2px rgba(60, 64, 67, 0.3), 0px 1px 3px 1px rgba(60, 64, 67, 0.15);\n",
              "        fill: #174EA6;\n",
              "      }\n",
              "\n",
              "      [theme=dark] .colab-df-generate {\n",
              "        background-color: #3B4455;\n",
              "        fill: #D2E3FC;\n",
              "      }\n",
              "\n",
              "      [theme=dark] .colab-df-generate:hover {\n",
              "        background-color: #434B5C;\n",
              "        box-shadow: 0px 1px 3px 1px rgba(0, 0, 0, 0.15);\n",
              "        filter: drop-shadow(0px 1px 2px rgba(0, 0, 0, 0.3));\n",
              "        fill: #FFFFFF;\n",
              "      }\n",
              "    </style>\n",
              "    <button class=\"colab-df-generate\" onclick=\"generateWithVariable('tv_show_df')\"\n",
              "            title=\"Generate code using this dataframe.\"\n",
              "            style=\"display:none;\">\n",
              "\n",
              "  <svg xmlns=\"http://www.w3.org/2000/svg\" height=\"24px\"viewBox=\"0 0 24 24\"\n",
              "       width=\"24px\">\n",
              "    <path d=\"M7,19H8.4L18.45,9,17,7.55,7,17.6ZM5,21V16.75L18.45,3.32a2,2,0,0,1,2.83,0l1.4,1.43a1.91,1.91,0,0,1,.58,1.4,1.91,1.91,0,0,1-.58,1.4L9.25,21ZM18.45,9,17,7.55Zm-12,3A5.31,5.31,0,0,0,4.9,8.1,5.31,5.31,0,0,0,1,6.5,5.31,5.31,0,0,0,4.9,4.9,5.31,5.31,0,0,0,6.5,1,5.31,5.31,0,0,0,8.1,4.9,5.31,5.31,0,0,0,12,6.5,5.46,5.46,0,0,0,6.5,12Z\"/>\n",
              "  </svg>\n",
              "    </button>\n",
              "    <script>\n",
              "      (() => {\n",
              "      const buttonEl =\n",
              "        document.querySelector('#id_b45495bc-ecd6-46aa-a771-aaf1d4de44aa button.colab-df-generate');\n",
              "      buttonEl.style.display =\n",
              "        google.colab.kernel.accessAllowed ? 'block' : 'none';\n",
              "\n",
              "      buttonEl.onclick = () => {\n",
              "        google.colab.notebook.generateWithVariable('tv_show_df');\n",
              "      }\n",
              "      })();\n",
              "    </script>\n",
              "  </div>\n",
              "\n",
              "    </div>\n",
              "  </div>\n"
            ]
          },
          "metadata": {},
          "execution_count": 31
        }
      ]
    },
    {
      "cell_type": "code",
      "source": [
        "tv_show_df.info()"
      ],
      "metadata": {
        "colab": {
          "base_uri": "https://localhost:8080/"
        },
        "id": "-lDMr7QgJkaF",
        "outputId": "25d11067-bc24-4a5c-8405-cbca50d9f7e4"
      },
      "execution_count": null,
      "outputs": [
        {
          "output_type": "stream",
          "name": "stdout",
          "text": [
            "<class 'pandas.core.frame.DataFrame'>\n",
            "RangeIndex: 100 entries, 0 to 99\n",
            "Data columns (total 9 columns):\n",
            " #   Column              Non-Null Count  Dtype \n",
            "---  ------              --------------  ----- \n",
            " 0   Show Title          100 non-null    object\n",
            " 1   TV Show Link        100 non-null    object\n",
            " 2   Release Year        100 non-null    object\n",
            " 3   Show Genre          100 non-null    object\n",
            " 4   IMDB Rating         96 non-null     object\n",
            " 5   Age Rating          29 non-null     object\n",
            " 6   Production Country  100 non-null    object\n",
            " 7   Streaming Service   93 non-null     object\n",
            " 8   Runtime             100 non-null    object\n",
            "dtypes: object(9)\n",
            "memory usage: 7.2+ KB\n"
          ]
        }
      ]
    },
    {
      "cell_type": "markdown",
      "source": [
        "## **Task 2 :- Data Filtering & Analysis**"
      ],
      "metadata": {
        "id": "CyqHHKh4IDx6"
      }
    },
    {
      "cell_type": "markdown",
      "source": [
        "TV show df -->tv_show_df\n",
        "\n",
        "movie df --> movies_df"
      ],
      "metadata": {
        "id": "u0hsnvUvAcJX"
      }
    },
    {
      "cell_type": "markdown",
      "source": [
        "      - Only include movies and TV shows released in the last 2 years (from the current date).\n",
        "      - Only include movies and TV shows with an IMDb rating of 7 or higher."
      ],
      "metadata": {
        "id": "uchZQ9AF_41z"
      }
    },
    {
      "cell_type": "markdown",
      "source": [
        "### **For Movies**"
      ],
      "metadata": {
        "id": "O-fzuZxPBfbV"
      }
    },
    {
      "cell_type": "code",
      "source": [
        "movies_df.info()"
      ],
      "metadata": {
        "colab": {
          "base_uri": "https://localhost:8080/"
        },
        "id": "vsu7e3EYDBXZ",
        "outputId": "c4f51ec6-c62d-4ddf-e037-95552654943e"
      },
      "execution_count": null,
      "outputs": [
        {
          "output_type": "stream",
          "name": "stdout",
          "text": [
            "<class 'pandas.core.frame.DataFrame'>\n",
            "RangeIndex: 100 entries, 0 to 99\n",
            "Data columns (total 9 columns):\n",
            " #   Column                Non-Null Count  Dtype \n",
            "---  ------                --------------  ----- \n",
            " 0   Movie Title           100 non-null    object\n",
            " 1   Movie Link            100 non-null    object\n",
            " 2   Release Year          100 non-null    object\n",
            " 3   Genre                 100 non-null    object\n",
            " 4   IMDB Rating           99 non-null     object\n",
            " 5   Runtime               100 non-null    object\n",
            " 6   Age Rating            58 non-null     object\n",
            " 7   Production Countries  100 non-null    object\n",
            " 8   Streaming Service     83 non-null     object\n",
            "dtypes: object(9)\n",
            "memory usage: 7.2+ KB\n"
          ]
        }
      ]
    },
    {
      "cell_type": "code",
      "source": [
        "# Changing the type of some columns.\n",
        "movies_df['Release Year'] = movies_df['Release Year'].astype(int)\n",
        "movies_df['IMDB Rating'] = movies_df['IMDB Rating'].astype(float)\n",
        "movies_df.info()"
      ],
      "metadata": {
        "colab": {
          "base_uri": "https://localhost:8080/"
        },
        "id": "9GDDOL19DTkN",
        "outputId": "97088c28-1e45-4d93-dfe7-d725167ac745"
      },
      "execution_count": null,
      "outputs": [
        {
          "output_type": "stream",
          "name": "stdout",
          "text": [
            "<class 'pandas.core.frame.DataFrame'>\n",
            "RangeIndex: 100 entries, 0 to 99\n",
            "Data columns (total 9 columns):\n",
            " #   Column                Non-Null Count  Dtype  \n",
            "---  ------                --------------  -----  \n",
            " 0   Movie Title           100 non-null    object \n",
            " 1   Movie Link            100 non-null    object \n",
            " 2   Release Year          100 non-null    int64  \n",
            " 3   Genre                 100 non-null    object \n",
            " 4   IMDB Rating           99 non-null     float64\n",
            " 5   Runtime               100 non-null    object \n",
            " 6   Age Rating            58 non-null     object \n",
            " 7   Production Countries  100 non-null    object \n",
            " 8   Streaming Service     83 non-null     object \n",
            "dtypes: float64(1), int64(1), object(7)\n",
            "memory usage: 7.2+ KB\n"
          ]
        }
      ]
    },
    {
      "cell_type": "code",
      "source": [
        "# Write Your Code here\n",
        "filtered_movie_df = movies_df[(movies_df['Release Year'] >=2022) & (movies_df['IMDB Rating'] >=7) ]\n",
        "len(filtered_movie_df)"
      ],
      "metadata": {
        "id": "ly64H04vH1v9",
        "colab": {
          "base_uri": "https://localhost:8080/"
        },
        "outputId": "6812bf21-433b-4965-e5dd-25b9e5031a4b"
      },
      "execution_count": null,
      "outputs": [
        {
          "output_type": "execute_result",
          "data": {
            "text/plain": [
              "46"
            ]
          },
          "metadata": {},
          "execution_count": 35
        }
      ]
    },
    {
      "cell_type": "markdown",
      "source": [
        "### **For Tv-Shows**"
      ],
      "metadata": {
        "id": "aB0jofqaGLXe"
      }
    },
    {
      "cell_type": "code",
      "source": [
        "tv_show_df.info()"
      ],
      "metadata": {
        "colab": {
          "base_uri": "https://localhost:8080/"
        },
        "id": "A7bxT4kPGP-R",
        "outputId": "904d73ef-0eab-422a-99da-3ba5027df382"
      },
      "execution_count": null,
      "outputs": [
        {
          "output_type": "stream",
          "name": "stdout",
          "text": [
            "<class 'pandas.core.frame.DataFrame'>\n",
            "RangeIndex: 100 entries, 0 to 99\n",
            "Data columns (total 9 columns):\n",
            " #   Column              Non-Null Count  Dtype \n",
            "---  ------              --------------  ----- \n",
            " 0   Show Title          100 non-null    object\n",
            " 1   TV Show Link        100 non-null    object\n",
            " 2   Release Year        100 non-null    object\n",
            " 3   Show Genre          100 non-null    object\n",
            " 4   IMDB Rating         96 non-null     object\n",
            " 5   Age Rating          29 non-null     object\n",
            " 6   Production Country  100 non-null    object\n",
            " 7   Streaming Service   93 non-null     object\n",
            " 8   Runtime             100 non-null    object\n",
            "dtypes: object(9)\n",
            "memory usage: 7.2+ KB\n"
          ]
        }
      ]
    },
    {
      "cell_type": "code",
      "source": [
        "# Changing the type for IMDB and Year.\n",
        "tv_show_df['Release Year'] = tv_show_df['Release Year'].astype(int)\n",
        "tv_show_df['IMDB Rating'] = tv_show_df['IMDB Rating'].astype(float)\n",
        "tv_show_df.info()"
      ],
      "metadata": {
        "colab": {
          "base_uri": "https://localhost:8080/"
        },
        "id": "Ct-HisV4GU8L",
        "outputId": "dc09141e-1b8f-4f8c-f848-4a72dada311b"
      },
      "execution_count": null,
      "outputs": [
        {
          "output_type": "stream",
          "name": "stdout",
          "text": [
            "<class 'pandas.core.frame.DataFrame'>\n",
            "RangeIndex: 100 entries, 0 to 99\n",
            "Data columns (total 9 columns):\n",
            " #   Column              Non-Null Count  Dtype  \n",
            "---  ------              --------------  -----  \n",
            " 0   Show Title          100 non-null    object \n",
            " 1   TV Show Link        100 non-null    object \n",
            " 2   Release Year        100 non-null    int64  \n",
            " 3   Show Genre          100 non-null    object \n",
            " 4   IMDB Rating         96 non-null     float64\n",
            " 5   Age Rating          29 non-null     object \n",
            " 6   Production Country  100 non-null    object \n",
            " 7   Streaming Service   93 non-null     object \n",
            " 8   Runtime             100 non-null    object \n",
            "dtypes: float64(1), int64(1), object(7)\n",
            "memory usage: 7.2+ KB\n"
          ]
        }
      ]
    },
    {
      "cell_type": "code",
      "source": [
        "filtered_tv_show_df = tv_show_df[(tv_show_df['Release Year'] >=2022) & (tv_show_df['IMDB Rating'] >=7) ]\n",
        "len(filtered_tv_show_df)"
      ],
      "metadata": {
        "colab": {
          "base_uri": "https://localhost:8080/"
        },
        "id": "MS2nSuvXOP-7",
        "outputId": "fab1c8a2-4e02-4f69-c621-e40133aae40b"
      },
      "execution_count": null,
      "outputs": [
        {
          "output_type": "execute_result",
          "data": {
            "text/plain": [
              "34"
            ]
          },
          "metadata": {},
          "execution_count": 38
        }
      ]
    },
    {
      "cell_type": "markdown",
      "source": [
        "## **Calculating Mean IMDB Ratings for both Movies and Tv Shows**"
      ],
      "metadata": {
        "id": "0bPDbn-gPyfm"
      }
    },
    {
      "cell_type": "markdown",
      "source": [
        "      - Calculate the average IMDb rating for the scraped movies and TV shows.\n"
      ],
      "metadata": {
        "id": "vPxB10ytQvSC"
      }
    },
    {
      "cell_type": "markdown",
      "source": [
        "### **For Movies**"
      ],
      "metadata": {
        "id": "QCuHOZyfP5EI"
      }
    },
    {
      "cell_type": "code",
      "source": [
        "mean_imdb_movie = movies_df['IMDB Rating'].mean()\n",
        "avg_imdb_movie = round(mean_imdb_movie, 2)\n",
        "print(f\"The Average IMDB Rating for Movies is {avg_imdb_movie}\")"
      ],
      "metadata": {
        "colab": {
          "base_uri": "https://localhost:8080/"
        },
        "id": "_QDYbNTmP7dj",
        "outputId": "8a97ce7f-4de9-453a-c458-3418c3027954"
      },
      "execution_count": null,
      "outputs": [
        {
          "output_type": "stream",
          "name": "stdout",
          "text": [
            "The Average IMDB Rating for Movies is 7.12\n"
          ]
        }
      ]
    },
    {
      "cell_type": "markdown",
      "source": [
        "### **For TV Shows**"
      ],
      "metadata": {
        "id": "hC5N24rLQ-gb"
      }
    },
    {
      "cell_type": "code",
      "source": [
        "mean_imdb_tv = tv_show_df['IMDB Rating'].mean()\n",
        "avg_imdb_tv = round(mean_imdb_tv, 2)\n",
        "print(f\"The Average IMDB Rating for TV show is {avg_imdb_tv}\")"
      ],
      "metadata": {
        "id": "6aGmGPOlIkk4",
        "colab": {
          "base_uri": "https://localhost:8080/"
        },
        "outputId": "a44ec92c-89f5-4628-c685-3c95472df025"
      },
      "execution_count": null,
      "outputs": [
        {
          "output_type": "stream",
          "name": "stdout",
          "text": [
            "The Average IMDB Rating for TV show is 7.85\n"
          ]
        }
      ]
    },
    {
      "cell_type": "markdown",
      "source": [
        "## **Analyzing Top Genres**"
      ],
      "metadata": {
        "id": "N_OroblUQG4r"
      }
    },
    {
      "cell_type": "markdown",
      "source": [
        "      - Identify the top 5 genres that have the highest number of available movies and TV shows.\n"
      ],
      "metadata": {
        "id": "5pi4sUwXRf5k"
      }
    },
    {
      "cell_type": "markdown",
      "source": [
        "### **For Movies**"
      ],
      "metadata": {
        "id": "lSiLeO-wR91y"
      }
    },
    {
      "cell_type": "code",
      "source": [
        "# Write Your Code here\n",
        "genre_count_movie = movies_df['Genre'].value_counts()\n",
        "sorted_movie_genre = genre_count_movie.sort_values(ascending=False)\n",
        "top_5_genre = sorted_movie_genre.head()\n",
        "top_5_genre"
      ],
      "metadata": {
        "id": "4ljPnIn2LJLZ",
        "colab": {
          "base_uri": "https://localhost:8080/"
        },
        "outputId": "657c5184-f065-4086-9a48-15e99e955de1"
      },
      "execution_count": null,
      "outputs": [
        {
          "output_type": "execute_result",
          "data": {
            "text/plain": [
              "Drama                                                   8\n",
              "Mystery & Thriller, Action & Adventure                  4\n",
              "Action & Adventure, Crime, Drama, Mystery & Thriller    3\n",
              "Drama, Mystery & Thriller                               3\n",
              "Comedy, Drama                                           3\n",
              "Name: Genre, dtype: int64"
            ]
          },
          "metadata": {},
          "execution_count": 41
        }
      ]
    },
    {
      "cell_type": "markdown",
      "source": [
        "**Visulaize it in WordCloud**"
      ],
      "metadata": {
        "id": "gQxRwCyOXSDv"
      }
    },
    {
      "cell_type": "code",
      "source": [
        "movie_top_genre_dict = top_5_genre.to_dict()\n",
        "wordcloud = WordCloud(width=800, height=400, background_color='white').generate_from_frequencies(movie_top_genre_dict)\n",
        "\n",
        "#Display the wordcloud\n",
        "plt.figure(figsize=(10,6))\n",
        "plt.imshow(wordcloud, interpolation='bilinear')\n",
        "plt.axis('off')\n",
        "plt.show()"
      ],
      "metadata": {
        "colab": {
          "base_uri": "https://localhost:8080/",
          "height": 424
        },
        "id": "KWMMz6zqX3ds",
        "outputId": "2c31802d-6fb8-4d9b-8b54-b3a519f09542"
      },
      "execution_count": null,
      "outputs": [
        {
          "output_type": "display_data",
          "data": {
            "text/plain": [
              "<Figure size 1000x600 with 1 Axes>"
            ],
            "image/png": "[encoded data removed]"
          },
          "metadata": {}
        }
      ]
    },
    {
      "cell_type": "markdown",
      "source": [
        "### **For TV shows**"
      ],
      "metadata": {
        "id": "zDly7ouuTaBV"
      }
    },
    {
      "cell_type": "code",
      "source": [
        "genre_count_tv = tv_show_df['Show Genre'].value_counts()\n",
        "sorted_tv_genre = genre_count_tv.sort_values(ascending=False)\n",
        "top_5 = sorted_tv_genre.head()\n",
        "top_5"
      ],
      "metadata": {
        "colab": {
          "base_uri": "https://localhost:8080/"
        },
        "id": "hqPU4JT9WC8g",
        "outputId": "b947bf2f-96bb-4ce4-ee0f-b8b7585543da"
      },
      "execution_count": null,
      "outputs": [
        {
          "output_type": "execute_result",
          "data": {
            "text/plain": [
              "Crime, Drama, Mystery & Thriller    9\n",
              "Drama                               8\n",
              "Crime, Drama                        4\n",
              "Comedy                              3\n",
              "Mystery & Thriller, Drama           3\n",
              "Name: Show Genre, dtype: int64"
            ]
          },
          "metadata": {},
          "execution_count": 43
        }
      ]
    },
    {
      "cell_type": "markdown",
      "source": [
        "**Let's Visvalize it using word cloud**"
      ],
      "metadata": {
        "id": "Zc-AgJVQbfBA"
      }
    },
    {
      "cell_type": "code",
      "source": [
        "#Let's Visvalize it using word cloud\n",
        "tv_top_genre_dict = top_5.to_dict()\n",
        "wordcloud = WordCloud(width=800, height=400, background_color='white').generate_from_frequencies(tv_top_genre_dict)\n",
        "\n",
        "#Display the wordcloud\n",
        "plt.figure(figsize=(10,6))\n",
        "plt.imshow(wordcloud, interpolation='bilinear')\n",
        "plt.axis('off')\n",
        "plt.show()"
      ],
      "metadata": {
        "id": "7Nqu7MEEYa3c",
        "colab": {
          "base_uri": "https://localhost:8080/",
          "height": 424
        },
        "outputId": "5e6a5314-782d-46d0-87fa-73b976023be5"
      },
      "execution_count": null,
      "outputs": [
        {
          "output_type": "display_data",
          "data": {
            "text/plain": [
              "<Figure size 1000x600 with 1 Axes>"
            ],
            "image/png": "[encoded data removed]"
          },
          "metadata": {}
        }
      ]
    },
    {
      "cell_type": "markdown",
      "source": [
        "## **Finding Predominant Streaming Service**"
      ],
      "metadata": {
        "id": "BUPye0P0QP5I"
      }
    },
    {
      "cell_type": "markdown",
      "source": [
        "      - Determine the streaming service with the most significant number of offerings."
      ],
      "metadata": {
        "id": "GmH0hb1eUrx9"
      }
    },
    {
      "cell_type": "markdown",
      "source": [
        "### **For Movies**"
      ],
      "metadata": {
        "id": "89we8xtqUtYt"
      }
    },
    {
      "cell_type": "code",
      "source": [
        "# Write Your Code here\n",
        "movie_streaming_service_count = movies_df['Streaming Service'].value_counts()\n",
        "most_common_movie_service = movie_streaming_service_count.idxmax()\n",
        "most_common_movie_service"
      ],
      "metadata": {
        "id": "cLXiCZSAO_40",
        "colab": {
          "base_uri": "https://localhost:8080/",
          "height": 36
        },
        "outputId": "84af2a31-5553-45ce-ac67-ec6cd5274819"
      },
      "execution_count": null,
      "outputs": [
        {
          "output_type": "execute_result",
          "data": {
            "text/plain": [
              "'Apple TV'"
            ],
            "application/vnd.google.colaboratory.intrinsic+json": {
              "type": "string"
            }
          },
          "metadata": {},
          "execution_count": 45
        }
      ]
    },
    {
      "cell_type": "markdown",
      "source": [
        "**Let's Visvalize it using word cloud**"
      ],
      "metadata": {
        "id": "yqMA9tvebzS1"
      }
    },
    {
      "cell_type": "code",
      "source": [
        "top_5_movie_service_dict = movie_streaming_service_count.head().to_dict()\n",
        "\n",
        "wordcloud = WordCloud(width=800, height=400, background_color='white').generate_from_frequencies(top_5_movie_service_dict)\n",
        "\n",
        "#Display the wordcloud\n",
        "plt.figure(figsize=(10,6))\n",
        "plt.imshow(wordcloud, interpolation='bilinear')\n",
        "plt.axis('off')\n",
        "plt.show()"
      ],
      "metadata": {
        "colab": {
          "base_uri": "https://localhost:8080/",
          "height": 424
        },
        "id": "jhb8dOtxb2-X",
        "outputId": "96a31be9-d633-4e39-b3ea-22e2229cbb29"
      },
      "execution_count": null,
      "outputs": [
        {
          "output_type": "display_data",
          "data": {
            "text/plain": [
              "<Figure size 1000x600 with 1 Axes>"
            ],
            "image/png": "[encoded data removed]"
          },
          "metadata": {}
        }
      ]
    },
    {
      "cell_type": "markdown",
      "source": [
        "### **For TV shows**"
      ],
      "metadata": {
        "id": "lWm5dQfQVxJr"
      }
    },
    {
      "cell_type": "code",
      "source": [
        "# Write Your Code here\n",
        "tv_streaming_service_count = tv_show_df['Streaming Service'].value_counts()\n",
        "most_common_tv_service = tv_streaming_service_count.idxmax()\n",
        "most_common_tv_service"
      ],
      "metadata": {
        "colab": {
          "base_uri": "https://localhost:8080/"
        },
        "id": "oUYNRpz4V7Gj",
        "outputId": "76d105b4-7565-4bbb-9570-c6e4244c1b88"
      },
      "execution_count": null,
      "outputs": [
        {
          "output_type": "execute_result",
          "data": {
            "text/plain": [
              "'Netflix'"
            ],
            "application/vnd.google.colaboratory.intrinsic+json": {
              "type": "string"
            }
          },
          "metadata": {},
          "execution_count": 47
        }
      ]
    },
    {
      "cell_type": "markdown",
      "source": [
        "**Let's Visvalize it using word cloud**"
      ],
      "metadata": {
        "id": "DZZOWeATc3id"
      }
    },
    {
      "cell_type": "code",
      "source": [
        "top_5_tv_service_dict = tv_streaming_service_count.head().to_dict()\n",
        "\n",
        "wordcloud = WordCloud(width=800, height=400, background_color='white').generate_from_frequencies(top_5_tv_service_dict)\n",
        "\n",
        "#Display the wordcloud\n",
        "plt.figure(figsize=(10,6))\n",
        "plt.imshow(wordcloud, interpolation='bilinear')\n",
        "plt.axis('off')\n",
        "plt.show()"
      ],
      "metadata": {
        "id": "e0xdIO8APJYm",
        "colab": {
          "base_uri": "https://localhost:8080/"
        },
        "outputId": "c68862cf-698c-4b3c-e1b5-687cfaca9c1b"
      },
      "execution_count": null,
      "outputs": [
        {
          "output_type": "display_data",
          "data": {
            "text/plain": [
              "<Figure size 1000x600 with 1 Axes>"
            ],
            "image/png": "[encoded data removed]"
          },
          "metadata": {}
        }
      ]
    },
    {
      "cell_type": "markdown",
      "source": [
        "## **Task 3 :- Data Export**"
      ],
      "metadata": {
        "id": "tytqsADVR2x6"
      }
    },
    {
      "cell_type": "code",
      "source": [
        "filtered_movie_df.head()"
      ],
      "metadata": {
        "colab": {
          "base_uri": "https://localhost:8080/",
          "height": 310
        },
        "id": "R79f_I2wfJWw",
        "outputId": "48ccab5a-f05f-489f-a324-e3c78e136bf6"
      },
      "execution_count": null,
      "outputs": [
        {
          "output_type": "execute_result",
          "data": {
            "text/plain": [
              "   Movie Title                                      Movie Link  Release Year  \\\n",
              "2    12th Fail    https://www.justwatch.com/in/movie/12th-fail          2023   \n",
              "3  Sam Bahadur  https://www.justwatch.com/in/movie/sam-bahadur          2023   \n",
              "5     Hanu-Man     https://www.justwatch.com/in/movie/hanu-man          2024   \n",
              "6        Dunki        https://www.justwatch.com/in/movie/dunki          2023   \n",
              "7  Oppenheimer  https://www.justwatch.com/in/movie/oppenheimer          2023   \n",
              "\n",
              "                                 Genre  IMDB Rating   Runtime Age Rating  \\\n",
              "2                                Drama          9.1  2h 26min       None   \n",
              "3       War & Military, Drama, History          7.9  2h 30min         UA   \n",
              "5  Comedy, Fantasy, Action & Adventure          8.5  2h 39min         UA   \n",
              "6                        Drama, Comedy          7.2  2h 40min       None   \n",
              "7                       Drama, History          8.4   3h 0min         UA   \n",
              "\n",
              "            Production Countries Streaming Service  \n",
              "2                          India           Hotstar  \n",
              "3                          India              Zee5  \n",
              "5                          India              None  \n",
              "6                          India        Bookmyshow  \n",
              "7  United States, United Kingdom          Apple TV  "
            ],
            "text/html": [
              "\n",
              "  <div id=\"df-3a103ee8-ed87-4996-b014-394ebbc1211c\" class=\"colab-df-container\">\n",
              "    <div>\n",
              "<style scoped>\n",
              "    .dataframe tbody tr th:only-of-type {\n",
              "        vertical-align: middle;\n",
              "    }\n",
              "\n",
              "    .dataframe tbody tr th {\n",
              "        vertical-align: top;\n",
              "    }\n",
              "\n",
              "    .dataframe thead th {\n",
              "        text-align: right;\n",
              "    }\n",
              "</style>\n",
              "<table border=\"1\" class=\"dataframe\">\n",
              "  <thead>\n",
              "    <tr style=\"text-align: right;\">\n",
              "      <th></th>\n",
              "      <th>Movie Title</th>\n",
              "      <th>Movie Link</th>\n",
              "      <th>Release Year</th>\n",
              "      <th>Genre</th>\n",
              "      <th>IMDB Rating</th>\n",
              "      <th>Runtime</th>\n",
              "      <th>Age Rating</th>\n",
              "      <th>Production Countries</th>\n",
              "      <th>Streaming Service</th>\n",
              "    </tr>\n",
              "  </thead>\n",
              "  <tbody>\n",
              "    <tr>\n",
              "      <th>2</th>\n",
              "      <td>12th Fail</td>\n",
              "      <td>https://www.justwatch.com/in/movie/12th-fail</td>\n",
              "      <td>2023</td>\n",
              "      <td>Drama</td>\n",
              "      <td>9.1</td>\n",
              "      <td>2h 26min</td>\n",
              "      <td>None</td>\n",
              "      <td>India</td>\n",
              "      <td>Hotstar</td>\n",
              "    </tr>\n",
              "    <tr>\n",
              "      <th>3</th>\n",
              "      <td>Sam Bahadur</td>\n",
              "      <td>https://www.justwatch.com/in/movie/sam-bahadur</td>\n",
              "      <td>2023</td>\n",
              "      <td>War &amp; Military, Drama, History</td>\n",
              "      <td>7.9</td>\n",
              "      <td>2h 30min</td>\n",
              "      <td>UA</td>\n",
              "      <td>India</td>\n",
              "      <td>Zee5</td>\n",
              "    </tr>\n",
              "    <tr>\n",
              "      <th>5</th>\n",
              "      <td>Hanu-Man</td>\n",
              "      <td>https://www.justwatch.com/in/movie/hanu-man</td>\n",
              "      <td>2024</td>\n",
              "      <td>Comedy, Fantasy, Action &amp; Adventure</td>\n",
              "      <td>8.5</td>\n",
              "      <td>2h 39min</td>\n",
              "      <td>UA</td>\n",
              "      <td>India</td>\n",
              "      <td>None</td>\n",
              "    </tr>\n",
              "    <tr>\n",
              "      <th>6</th>\n",
              "      <td>Dunki</td>\n",
              "      <td>https://www.justwatch.com/in/movie/dunki</td>\n",
              "      <td>2023</td>\n",
              "      <td>Drama, Comedy</td>\n",
              "      <td>7.2</td>\n",
              "      <td>2h 40min</td>\n",
              "      <td>None</td>\n",
              "      <td>India</td>\n",
              "      <td>Bookmyshow</td>\n",
              "    </tr>\n",
              "    <tr>\n",
              "      <th>7</th>\n",
              "      <td>Oppenheimer</td>\n",
              "      <td>https://www.justwatch.com/in/movie/oppenheimer</td>\n",
              "      <td>2023</td>\n",
              "      <td>Drama, History</td>\n",
              "      <td>8.4</td>\n",
              "      <td>3h 0min</td>\n",
              "      <td>UA</td>\n",
              "      <td>United States, United Kingdom</td>\n",
              "      <td>Apple TV</td>\n",
              "    </tr>\n",
              "  </tbody>\n",
              "</table>\n",
              "</div>\n",
              "    <div class=\"colab-df-buttons\">\n",
              "\n",
              "  <div class=\"colab-df-container\">\n",
              "    <button class=\"colab-df-convert\" onclick=\"convertToInteractive('df-3a103ee8-ed87-4996-b014-394ebbc1211c')\"\n",
              "            title=\"Convert this dataframe to an interactive table.\"\n",
              "            style=\"display:none;\">\n",
              "\n",
              "  <svg xmlns=\"http://www.w3.org/2000/svg\" height=\"24px\" viewBox=\"0 -960 960 960\">\n",
              "    <path d=\"M120-120v-720h720v720H120Zm60-500h600v-160H180v160Zm220 220h160v-160H400v160Zm0 220h160v-160H400v160ZM180-400h160v-160H180v160Zm440 0h160v-160H620v160ZM180-180h160v-160H180v160Zm440 0h160v-160H620v160Z\"/>\n",
              "  </svg>\n",
              "    </button>\n",
              "\n",
              "  <style>\n",
              "    .colab-df-container {\n",
              "      display:flex;\n",
              "      gap: 12px;\n",
              "    }\n",
              "\n",
              "    .colab-df-convert {\n",
              "      background-color: #E8F0FE;\n",
              "      border: none;\n",
              "      border-radius: 50%;\n",
              "      cursor: pointer;\n",
              "      display: none;\n",
              "      fill: #1967D2;\n",
              "      height: 32px;\n",
              "      padding: 0 0 0 0;\n",
              "      width: 32px;\n",
              "    }\n",
              "\n",
              "    .colab-df-convert:hover {\n",
              "      background-color: #E2EBFA;\n",
              "      box-shadow: 0px 1px 2px rgba(60, 64, 67, 0.3), 0px 1px 3px 1px rgba(60, 64, 67, 0.15);\n",
              "      fill: #174EA6;\n",
              "    }\n",
              "\n",
              "    .colab-df-buttons div {\n",
              "      margin-bottom: 4px;\n",
              "    }\n",
              "\n",
              "    [theme=dark] .colab-df-convert {\n",
              "      background-color: #3B4455;\n",
              "      fill: #D2E3FC;\n",
              "    }\n",
              "\n",
              "    [theme=dark] .colab-df-convert:hover {\n",
              "      background-color: #434B5C;\n",
              "      box-shadow: 0px 1px 3px 1px rgba(0, 0, 0, 0.15);\n",
              "      filter: drop-shadow(0px 1px 2px rgba(0, 0, 0, 0.3));\n",
              "      fill: #FFFFFF;\n",
              "    }\n",
              "  </style>\n",
              "\n",
              "    <script>\n",
              "      const buttonEl =\n",
              "        document.querySelector('#df-3a103ee8-ed87-4996-b014-394ebbc1211c button.colab-df-convert');\n",
              "      buttonEl.style.display =\n",
              "        google.colab.kernel.accessAllowed ? 'block' : 'none';\n",
              "\n",
              "      async function convertToInteractive(key) {\n",
              "        const element = document.querySelector('#df-3a103ee8-ed87-4996-b014-394ebbc1211c');\n",
              "        const dataTable =\n",
              "          await google.colab.kernel.invokeFunction('convertToInteractive',\n",
              "                                                    [key], {});\n",
              "        if (!dataTable) return;\n",
              "\n",
              "        const docLinkHtml = 'Like what you see? Visit the ' +\n",
              "          '<a target=\"_blank\" href=https://colab.research.google.com/notebooks/data_table.ipynb>data table notebook</a>'\n",
              "          + ' to learn more about interactive tables.';\n",
              "        element.innerHTML = '';\n",
              "        dataTable['output_type'] = 'display_data';\n",
              "        await google.colab.output.renderOutput(dataTable, element);\n",
              "        const docLink = document.createElement('div');\n",
              "        docLink.innerHTML = docLinkHtml;\n",
              "        element.appendChild(docLink);\n",
              "      }\n",
              "    </script>\n",
              "  </div>\n",
              "\n",
              "\n",
              "<div id=\"df-c79731a9-1540-49f2-b615-5bf410c542ed\">\n",
              "  <button class=\"colab-df-quickchart\" onclick=\"quickchart('df-c79731a9-1540-49f2-b615-5bf410c542ed')\"\n",
              "            title=\"Suggest charts\"\n",
              "            style=\"display:none;\">\n",
              "\n",
              "<svg xmlns=\"http://www.w3.org/2000/svg\" height=\"24px\"viewBox=\"0 0 24 24\"\n",
              "     width=\"24px\">\n",
              "    <g>\n",
              "        <path d=\"M19 3H5c-1.1 0-2 .9-2 2v14c0 1.1.9 2 2 2h14c1.1 0 2-.9 2-2V5c0-1.1-.9-2-2-2zM9 17H7v-7h2v7zm4 0h-2V7h2v10zm4 0h-2v-4h2v4z\"/>\n",
              "    </g>\n",
              "</svg>\n",
              "  </button>\n",
              "\n",
              "<style>\n",
              "  .colab-df-quickchart {\n",
              "      --bg-color: #E8F0FE;\n",
              "      --fill-color: #1967D2;\n",
              "      --hover-bg-color: #E2EBFA;\n",
              "      --hover-fill-color: #174EA6;\n",
              "      --disabled-fill-color: #AAA;\n",
              "      --disabled-bg-color: #DDD;\n",
              "  }\n",
              "\n",
              "  [theme=dark] .colab-df-quickchart {\n",
              "      --bg-color: #3B4455;\n",
              "      --fill-color: #D2E3FC;\n",
              "      --hover-bg-color: #434B5C;\n",
              "      --hover-fill-color: #FFFFFF;\n",
              "      --disabled-bg-color: #3B4455;\n",
              "      --disabled-fill-color: #666;\n",
              "  }\n",
              "\n",
              "  .colab-df-quickchart {\n",
              "    background-color: var(--bg-color);\n",
              "    border: none;\n",
              "    border-radius: 50%;\n",
              "    cursor: pointer;\n",
              "    display: none;\n",
              "    fill: var(--fill-color);\n",
              "    height: 32px;\n",
              "    padding: 0;\n",
              "    width: 32px;\n",
              "  }\n",
              "\n",
              "  .colab-df-quickchart:hover {\n",
              "    background-color: var(--hover-bg-color);\n",
              "    box-shadow: 0 1px 2px rgba(60, 64, 67, 0.3), 0 1px 3px 1px rgba(60, 64, 67, 0.15);\n",
              "    fill: var(--button-hover-fill-color);\n",
              "  }\n",
              "\n",
              "  .colab-df-quickchart-complete:disabled,\n",
              "  .colab-df-quickchart-complete:disabled:hover {\n",
              "    background-color: var(--disabled-bg-color);\n",
              "    fill: var(--disabled-fill-color);\n",
              "    box-shadow: none;\n",
              "  }\n",
              "\n",
              "  .colab-df-spinner {\n",
              "    border: 2px solid var(--fill-color);\n",
              "    border-color: transparent;\n",
              "    border-bottom-color: var(--fill-color);\n",
              "    animation:\n",
              "      spin 1s steps(1) infinite;\n",
              "  }\n",
              "\n",
              "  @keyframes spin {\n",
              "    0% {\n",
              "      border-color: transparent;\n",
              "      border-bottom-color: var(--fill-color);\n",
              "      border-left-color: var(--fill-color);\n",
              "    }\n",
              "    20% {\n",
              "      border-color: transparent;\n",
              "      border-left-color: var(--fill-color);\n",
              "      border-top-color: var(--fill-color);\n",
              "    }\n",
              "    30% {\n",
              "      border-color: transparent;\n",
              "      border-left-color: var(--fill-color);\n",
              "      border-top-color: var(--fill-color);\n",
              "      border-right-color: var(--fill-color);\n",
              "    }\n",
              "    40% {\n",
              "      border-color: transparent;\n",
              "      border-right-color: var(--fill-color);\n",
              "      border-top-color: var(--fill-color);\n",
              "    }\n",
              "    60% {\n",
              "      border-color: transparent;\n",
              "      border-right-color: var(--fill-color);\n",
              "    }\n",
              "    80% {\n",
              "      border-color: transparent;\n",
              "      border-right-color: var(--fill-color);\n",
              "      border-bottom-color: var(--fill-color);\n",
              "    }\n",
              "    90% {\n",
              "      border-color: transparent;\n",
              "      border-bottom-color: var(--fill-color);\n",
              "    }\n",
              "  }\n",
              "</style>\n",
              "\n",
              "  <script>\n",
              "    async function quickchart(key) {\n",
              "      const quickchartButtonEl =\n",
              "        document.querySelector('#' + key + ' button');\n",
              "      quickchartButtonEl.disabled = true;  // To prevent multiple clicks.\n",
              "      quickchartButtonEl.classList.add('colab-df-spinner');\n",
              "      try {\n",
              "        const charts = await google.colab.kernel.invokeFunction(\n",
              "            'suggestCharts', [key], {});\n",
              "      } catch (error) {\n",
              "        console.error('Error during call to suggestCharts:', error);\n",
              "      }\n",
              "      quickchartButtonEl.classList.remove('colab-df-spinner');\n",
              "      quickchartButtonEl.classList.add('colab-df-quickchart-complete');\n",
              "    }\n",
              "    (() => {\n",
              "      let quickchartButtonEl =\n",
              "        document.querySelector('#df-c79731a9-1540-49f2-b615-5bf410c542ed button');\n",
              "      quickchartButtonEl.style.display =\n",
              "        google.colab.kernel.accessAllowed ? 'block' : 'none';\n",
              "    })();\n",
              "  </script>\n",
              "</div>\n",
              "\n",
              "    </div>\n",
              "  </div>\n"
            ]
          },
          "metadata": {},
          "execution_count": 49
        }
      ]
    },
    {
      "cell_type": "code",
      "source": [
        "filtered_tv_show_df.head()"
      ],
      "metadata": {
        "colab": {
          "base_uri": "https://localhost:8080/",
          "height": 310
        },
        "id": "bDde_R6UfRQA",
        "outputId": "3c2c6a4f-2d78-48b6-bb21-08f420dd1ac8"
      },
      "execution_count": null,
      "outputs": [
        {
          "output_type": "execute_result",
          "data": {
            "text/plain": [
              "                 Show Title  \\\n",
              "3                   Reacher   \n",
              "6             Solo Leveling   \n",
              "7   Death and Other Details   \n",
              "14                    Farzi   \n",
              "16           The Last of Us   \n",
              "\n",
              "                                         TV Show Link  Release Year  \\\n",
              "3   https://www.justwatch.com/in/tv-show/jack-reacher          2022   \n",
              "6   https://www.justwatch.com/in/tv-show/solo-leve...          2024   \n",
              "7   https://www.justwatch.com/in/tv-show/death-and...          2024   \n",
              "14         https://www.justwatch.com/in/tv-show/farzi          2023   \n",
              "16  https://www.justwatch.com/in/tv-show/the-last-...          2023   \n",
              "\n",
              "                                           Show Genre  IMDB Rating Age Rating  \\\n",
              "3   Action & Adventure, Crime, Drama, Mystery & Th...          8.1          A   \n",
              "6   Action & Adventure, Fantasy, Animation, Scienc...          8.4       None   \n",
              "7                    Drama, Crime, Mystery & Thriller          7.0       None   \n",
              "14                   Crime, Drama, Mystery & Thriller          8.4       None   \n",
              "16  Drama, Horror, Science-Fiction, Mystery & Thri...          8.8          A   \n",
              "\n",
              "    Production Country   Streaming Service Runtime  \n",
              "3        United States  Amazon Prime Video   48min  \n",
              "6   Japan, South Korea         Crunchyroll   24min  \n",
              "7        United States             Hotstar   47min  \n",
              "14               India  Amazon Prime Video   56min  \n",
              "16       United States          Jio Cinema   58min  "
            ],
            "text/html": [
              "\n",
              "  <div id=\"df-0d5155c8-d479-4b7f-a39b-9b5ad64575ab\" class=\"colab-df-container\">\n",
              "    <div>\n",
              "<style scoped>\n",
              "    .dataframe tbody tr th:only-of-type {\n",
              "        vertical-align: middle;\n",
              "    }\n",
              "\n",
              "    .dataframe tbody tr th {\n",
              "        vertical-align: top;\n",
              "    }\n",
              "\n",
              "    .dataframe thead th {\n",
              "        text-align: right;\n",
              "    }\n",
              "</style>\n",
              "<table border=\"1\" class=\"dataframe\">\n",
              "  <thead>\n",
              "    <tr style=\"text-align: right;\">\n",
              "      <th></th>\n",
              "      <th>Show Title</th>\n",
              "      <th>TV Show Link</th>\n",
              "      <th>Release Year</th>\n",
              "      <th>Show Genre</th>\n",
              "      <th>IMDB Rating</th>\n",
              "      <th>Age Rating</th>\n",
              "      <th>Production Country</th>\n",
              "      <th>Streaming Service</th>\n",
              "      <th>Runtime</th>\n",
              "    </tr>\n",
              "  </thead>\n",
              "  <tbody>\n",
              "    <tr>\n",
              "      <th>3</th>\n",
              "      <td>Reacher</td>\n",
              "      <td>https://www.justwatch.com/in/tv-show/jack-reacher</td>\n",
              "      <td>2022</td>\n",
              "      <td>Action &amp; Adventure, Crime, Drama, Mystery &amp; Th...</td>\n",
              "      <td>8.1</td>\n",
              "      <td>A</td>\n",
              "      <td>United States</td>\n",
              "      <td>Amazon Prime Video</td>\n",
              "      <td>48min</td>\n",
              "    </tr>\n",
              "    <tr>\n",
              "      <th>6</th>\n",
              "      <td>Solo Leveling</td>\n",
              "      <td>https://www.justwatch.com/in/tv-show/solo-leve...</td>\n",
              "      <td>2024</td>\n",
              "      <td>Action &amp; Adventure, Fantasy, Animation, Scienc...</td>\n",
              "      <td>8.4</td>\n",
              "      <td>None</td>\n",
              "      <td>Japan, South Korea</td>\n",
              "      <td>Crunchyroll</td>\n",
              "      <td>24min</td>\n",
              "    </tr>\n",
              "    <tr>\n",
              "      <th>7</th>\n",
              "      <td>Death and Other Details</td>\n",
              "      <td>https://www.justwatch.com/in/tv-show/death-and...</td>\n",
              "      <td>2024</td>\n",
              "      <td>Drama, Crime, Mystery &amp; Thriller</td>\n",
              "      <td>7.0</td>\n",
              "      <td>None</td>\n",
              "      <td>United States</td>\n",
              "      <td>Hotstar</td>\n",
              "      <td>47min</td>\n",
              "    </tr>\n",
              "    <tr>\n",
              "      <th>14</th>\n",
              "      <td>Farzi</td>\n",
              "      <td>https://www.justwatch.com/in/tv-show/farzi</td>\n",
              "      <td>2023</td>\n",
              "      <td>Crime, Drama, Mystery &amp; Thriller</td>\n",
              "      <td>8.4</td>\n",
              "      <td>None</td>\n",
              "      <td>India</td>\n",
              "      <td>Amazon Prime Video</td>\n",
              "      <td>56min</td>\n",
              "    </tr>\n",
              "    <tr>\n",
              "      <th>16</th>\n",
              "      <td>The Last of Us</td>\n",
              "      <td>https://www.justwatch.com/in/tv-show/the-last-...</td>\n",
              "      <td>2023</td>\n",
              "      <td>Drama, Horror, Science-Fiction, Mystery &amp; Thri...</td>\n",
              "      <td>8.8</td>\n",
              "      <td>A</td>\n",
              "      <td>United States</td>\n",
              "      <td>Jio Cinema</td>\n",
              "      <td>58min</td>\n",
              "    </tr>\n",
              "  </tbody>\n",
              "</table>\n",
              "</div>\n",
              "    <div class=\"colab-df-buttons\">\n",
              "\n",
              "  <div class=\"colab-df-container\">\n",
              "    <button class=\"colab-df-convert\" onclick=\"convertToInteractive('df-0d5155c8-d479-4b7f-a39b-9b5ad64575ab')\"\n",
              "            title=\"Convert this dataframe to an interactive table.\"\n",
              "            style=\"display:none;\">\n",
              "\n",
              "  <svg xmlns=\"http://www.w3.org/2000/svg\" height=\"24px\" viewBox=\"0 -960 960 960\">\n",
              "    <path d=\"M120-120v-720h720v720H120Zm60-500h600v-160H180v160Zm220 220h160v-160H400v160Zm0 220h160v-160H400v160ZM180-400h160v-160H180v160Zm440 0h160v-160H620v160ZM180-180h160v-160H180v160Zm440 0h160v-160H620v160Z\"/>\n",
              "  </svg>\n",
              "    </button>\n",
              "\n",
              "  <style>\n",
              "    .colab-df-container {\n",
              "      display:flex;\n",
              "      gap: 12px;\n",
              "    }\n",
              "\n",
              "    .colab-df-convert {\n",
              "      background-color: #E8F0FE;\n",
              "      border: none;\n",
              "      border-radius: 50%;\n",
              "      cursor: pointer;\n",
              "      display: none;\n",
              "      fill: #1967D2;\n",
              "      height: 32px;\n",
              "      padding: 0 0 0 0;\n",
              "      width: 32px;\n",
              "    }\n",
              "\n",
              "    .colab-df-convert:hover {\n",
              "      background-color: #E2EBFA;\n",
              "      box-shadow: 0px 1px 2px rgba(60, 64, 67, 0.3), 0px 1px 3px 1px rgba(60, 64, 67, 0.15);\n",
              "      fill: #174EA6;\n",
              "    }\n",
              "\n",
              "    .colab-df-buttons div {\n",
              "      margin-bottom: 4px;\n",
              "    }\n",
              "\n",
              "    [theme=dark] .colab-df-convert {\n",
              "      background-color: #3B4455;\n",
              "      fill: #D2E3FC;\n",
              "    }\n",
              "\n",
              "    [theme=dark] .colab-df-convert:hover {\n",
              "      background-color: #434B5C;\n",
              "      box-shadow: 0px 1px 3px 1px rgba(0, 0, 0, 0.15);\n",
              "      filter: drop-shadow(0px 1px 2px rgba(0, 0, 0, 0.3));\n",
              "      fill: #FFFFFF;\n",
              "    }\n",
              "  </style>\n",
              "\n",
              "    <script>\n",
              "      const buttonEl =\n",
              "        document.querySelector('#df-0d5155c8-d479-4b7f-a39b-9b5ad64575ab button.colab-df-convert');\n",
              "      buttonEl.style.display =\n",
              "        google.colab.kernel.accessAllowed ? 'block' : 'none';\n",
              "\n",
              "      async function convertToInteractive(key) {\n",
              "        const element = document.querySelector('#df-0d5155c8-d479-4b7f-a39b-9b5ad64575ab');\n",
              "        const dataTable =\n",
              "          await google.colab.kernel.invokeFunction('convertToInteractive',\n",
              "                                                    [key], {});\n",
              "        if (!dataTable) return;\n",
              "\n",
              "        const docLinkHtml = 'Like what you see? Visit the ' +\n",
              "          '<a target=\"_blank\" href=https://colab.research.google.com/notebooks/data_table.ipynb>data table notebook</a>'\n",
              "          + ' to learn more about interactive tables.';\n",
              "        element.innerHTML = '';\n",
              "        dataTable['output_type'] = 'display_data';\n",
              "        await google.colab.output.renderOutput(dataTable, element);\n",
              "        const docLink = document.createElement('div');\n",
              "        docLink.innerHTML = docLinkHtml;\n",
              "        element.appendChild(docLink);\n",
              "      }\n",
              "    </script>\n",
              "  </div>\n",
              "\n",
              "\n",
              "<div id=\"df-c7e3b5e7-bf02-4142-9f07-0939bdfcf1cf\">\n",
              "  <button class=\"colab-df-quickchart\" onclick=\"quickchart('df-c7e3b5e7-bf02-4142-9f07-0939bdfcf1cf')\"\n",
              "            title=\"Suggest charts\"\n",
              "            style=\"display:none;\">\n",
              "\n",
              "<svg xmlns=\"http://www.w3.org/2000/svg\" height=\"24px\"viewBox=\"0 0 24 24\"\n",
              "     width=\"24px\">\n",
              "    <g>\n",
              "        <path d=\"M19 3H5c-1.1 0-2 .9-2 2v14c0 1.1.9 2 2 2h14c1.1 0 2-.9 2-2V5c0-1.1-.9-2-2-2zM9 17H7v-7h2v7zm4 0h-2V7h2v10zm4 0h-2v-4h2v4z\"/>\n",
              "    </g>\n",
              "</svg>\n",
              "  </button>\n",
              "\n",
              "<style>\n",
              "  .colab-df-quickchart {\n",
              "      --bg-color: #E8F0FE;\n",
              "      --fill-color: #1967D2;\n",
              "      --hover-bg-color: #E2EBFA;\n",
              "      --hover-fill-color: #174EA6;\n",
              "      --disabled-fill-color: #AAA;\n",
              "      --disabled-bg-color: #DDD;\n",
              "  }\n",
              "\n",
              "  [theme=dark] .colab-df-quickchart {\n",
              "      --bg-color: #3B4455;\n",
              "      --fill-color: #D2E3FC;\n",
              "      --hover-bg-color: #434B5C;\n",
              "      --hover-fill-color: #FFFFFF;\n",
              "      --disabled-bg-color: #3B4455;\n",
              "      --disabled-fill-color: #666;\n",
              "  }\n",
              "\n",
              "  .colab-df-quickchart {\n",
              "    background-color: var(--bg-color);\n",
              "    border: none;\n",
              "    border-radius: 50%;\n",
              "    cursor: pointer;\n",
              "    display: none;\n",
              "    fill: var(--fill-color);\n",
              "    height: 32px;\n",
              "    padding: 0;\n",
              "    width: 32px;\n",
              "  }\n",
              "\n",
              "  .colab-df-quickchart:hover {\n",
              "    background-color: var(--hover-bg-color);\n",
              "    box-shadow: 0 1px 2px rgba(60, 64, 67, 0.3), 0 1px 3px 1px rgba(60, 64, 67, 0.15);\n",
              "    fill: var(--button-hover-fill-color);\n",
              "  }\n",
              "\n",
              "  .colab-df-quickchart-complete:disabled,\n",
              "  .colab-df-quickchart-complete:disabled:hover {\n",
              "    background-color: var(--disabled-bg-color);\n",
              "    fill: var(--disabled-fill-color);\n",
              "    box-shadow: none;\n",
              "  }\n",
              "\n",
              "  .colab-df-spinner {\n",
              "    border: 2px solid var(--fill-color);\n",
              "    border-color: transparent;\n",
              "    border-bottom-color: var(--fill-color);\n",
              "    animation:\n",
              "      spin 1s steps(1) infinite;\n",
              "  }\n",
              "\n",
              "  @keyframes spin {\n",
              "    0% {\n",
              "      border-color: transparent;\n",
              "      border-bottom-color: var(--fill-color);\n",
              "      border-left-color: var(--fill-color);\n",
              "    }\n",
              "    20% {\n",
              "      border-color: transparent;\n",
              "      border-left-color: var(--fill-color);\n",
              "      border-top-color: var(--fill-color);\n",
              "    }\n",
              "    30% {\n",
              "      border-color: transparent;\n",
              "      border-left-color: var(--fill-color);\n",
              "      border-top-color: var(--fill-color);\n",
              "      border-right-color: var(--fill-color);\n",
              "    }\n",
              "    40% {\n",
              "      border-color: transparent;\n",
              "      border-right-color: var(--fill-color);\n",
              "      border-top-color: var(--fill-color);\n",
              "    }\n",
              "    60% {\n",
              "      border-color: transparent;\n",
              "      border-right-color: var(--fill-color);\n",
              "    }\n",
              "    80% {\n",
              "      border-color: transparent;\n",
              "      border-right-color: var(--fill-color);\n",
              "      border-bottom-color: var(--fill-color);\n",
              "    }\n",
              "    90% {\n",
              "      border-color: transparent;\n",
              "      border-bottom-color: var(--fill-color);\n",
              "    }\n",
              "  }\n",
              "</style>\n",
              "\n",
              "  <script>\n",
              "    async function quickchart(key) {\n",
              "      const quickchartButtonEl =\n",
              "        document.querySelector('#' + key + ' button');\n",
              "      quickchartButtonEl.disabled = true;  // To prevent multiple clicks.\n",
              "      quickchartButtonEl.classList.add('colab-df-spinner');\n",
              "      try {\n",
              "        const charts = await google.colab.kernel.invokeFunction(\n",
              "            'suggestCharts', [key], {});\n",
              "      } catch (error) {\n",
              "        console.error('Error during call to suggestCharts:', error);\n",
              "      }\n",
              "      quickchartButtonEl.classList.remove('colab-df-spinner');\n",
              "      quickchartButtonEl.classList.add('colab-df-quickchart-complete');\n",
              "    }\n",
              "    (() => {\n",
              "      let quickchartButtonEl =\n",
              "        document.querySelector('#df-c7e3b5e7-bf02-4142-9f07-0939bdfcf1cf button');\n",
              "      quickchartButtonEl.style.display =\n",
              "        google.colab.kernel.accessAllowed ? 'block' : 'none';\n",
              "    })();\n",
              "  </script>\n",
              "</div>\n",
              "\n",
              "    </div>\n",
              "  </div>\n"
            ]
          },
          "metadata": {},
          "execution_count": 50
        }
      ]
    },
    {
      "cell_type": "code",
      "source": [
        "#saving final dataframe as Final Data in csv format\n",
        "movies_df.to_csv('Just watch Movies Info.csv', index=False)\n",
        "tv_show_df.to_csv('Just watch TV Show Info.csv', index=False)"
      ],
      "metadata": {
        "id": "u4yaUlvrRj6g"
      },
      "execution_count": null,
      "outputs": []
    },
    {
      "cell_type": "code",
      "source": [
        "#saving filter data as Filter Data in csv format\n",
        "filtered_movie_df.to_csv('Recent Good Movies Info.csv', index=False)\n",
        "filtered_tv_show_df.to_csv('Recent Good TV Show Info.csv', index=False)"
      ],
      "metadata": {
        "id": "SSmCEV22SSW_"
      },
      "execution_count": null,
      "outputs": []
    },
    {
      "cell_type": "markdown",
      "source": [
        "# **Dataset Drive Link (View Access with Anyone) -**"
      ],
      "metadata": {
        "id": "j6F3wrlGWOcl"
      }
    },
    {
      "cell_type": "markdown",
      "source": [
        "**JustWatch Movies --**\n",
        "\n",
        "https://drive.google.com/file/d/1WimS_XonOSHgOsAZU-aP_nWbvJMmgR_o/view?usp=drive_link\n",
        "\n",
        "\n",
        "\n",
        "**JustWatch TV shows --**\n",
        "\n",
        "https://drive.google.com/file/d/1AFkJiFhAvbxG8k5AzUZJtaU5taTtS2d2/view?usp=drive_link\n",
        "\n",
        "\n",
        "\n",
        "**Recent Good Movies --**\n",
        "\n",
        "https://drive.google.com/file/d/1Xyay27Tum1AMNw-z32gT9eb5s8Jmom2W/view?usp=drive_link\n",
        "\n",
        "\n",
        "\n",
        "**Recent Good TV shows --**\n",
        "\n",
        "https://drive.google.com/file/d/1C3Jf7LIitWj3aDTvVI7TC0xjujdyLjjl/view?usp=drive_link"
      ],
      "metadata": {
        "id": "Jrr1KuF0nZCM"
      }
    },
    {
      "cell_type": "markdown",
      "source": [
        "# ***Congratulations!!! You have completed your Assignment.***"
      ],
      "metadata": {
        "id": "9s-10dFhWZf4"
      }
    }
  ]
}